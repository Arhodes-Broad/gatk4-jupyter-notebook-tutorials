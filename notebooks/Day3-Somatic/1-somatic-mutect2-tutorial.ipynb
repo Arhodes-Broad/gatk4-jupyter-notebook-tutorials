{
 "cells": [
  {
   "cell_type": "markdown",
   "metadata": {
    "colab_type": "text",
    "id": "f-8KIM_A-GZ0"
   },
   "source": [
    "# GATK TUTORIAL :: Mutect2 Basics :: Notebook\n",
    "\n",
    "March 2019\n",
    "\n",
    "\n",
    "In this hands-on tutorial, we will call somatic short mutations, both single nucleotide and indels, using the GATK4 Mutect2 and FilterMutectCalls. \n",
    "\n",
    "<img src=\"https://storage.googleapis.com/gatk-tutorials/workshop_1903/3-somatic/images/BP_somatic_snps_indels_4_1_00.png\" width=\"900\"/>\n",
    "\n",
    "\n",
    "\n",
    "If you need a primer on what somatic calling is about, see GATK forum Article#11127 at <https://software.broadinstitute.org/gatk/documentation/article?id=11127>.\n",
    "\n",
    "---\n",
    "The tutorial was last tested with the GATK4.1.0.0 Docker and IGV v2.4.15. Example data are based on a breast cancer cell line and its matched normal cell line derived from blood. Both cell lines are consented and known as HCC1143 and HCC1143_BL (blood normal), respectively and  are 2x76 paired end whole exome sequences aligned to GRCh38. \n",
    "\n"
   ]
  },
  {
   "cell_type": "markdown",
   "metadata": {
    "colab_type": "text",
    "id": "Te2Td39ESuJf"
   },
   "source": [
    "Keyboard shortcuts:\n",
    "\n",
    " - `SHIFT + ENTER` or `CTRL + ENTER` to evaluate a cell\n",
    " - `ESC` to return to navigation mode\n",
    " - `y` to turn a markdown cell into code\n",
    " - `m` to turn a code cell into markdown\n",
    " - `a` to add a new cell **above** the currently selected cell\n",
    " - `b` to add a new cell **below** the currently selected cell\n",
    " - `d, d` (repeated) to delete the currently selected cell\n",
    " - `TAB` to activate code completion\n",
    " \n",
    "To try this out, create a new cell below this one using `b`, and print `my_variable` by starting with `print(my` and pressing `TAB`!"
   ]
  },
  {
   "cell_type": "markdown",
   "metadata": {
    "colab_type": "text",
    "id": "XYvfU11SSuJg"
   },
   "source": [
    "## Setup Instructions for this Tutorial\n",
    "\n",
    "### 1.) Make sure the notebook is using a Python 3 kernel in the top right corner.\n",
    "\n",
    "A kernel is a computational engine that executes the code in the notebook. We can execute GATK bash commands using Python Magic (!).\n",
    "\n",
    "Unlike the other tutorials, this one requires file uploads to our IGV Browser, so we need to make the filespace visible to our google bucket.  This notebook is running inside a docker on the cluster, so any files that we create here are not visible to the bucket.\n",
    "\n",
    "After we run our analysis we will copy our jupyter files into the bucket so we use the IGV viewer.\n"
   ]
  },
  {
   "cell_type": "markdown",
   "metadata": {
    "colab_type": "text",
    "id": "QwnLLEZfSuJh"
   },
   "source": [
    "### Launch the Jupyter Notebook Cluster in Terra using gatk_script.sh\n",
    "\n",
    "If you are reading this, you have already started a notebook cluster.\n",
    "\n",
    "It is okay to reprogram the cluster to have settings that you need to do the work (such as more memory, etc.)  \n",
    "\n",
    "Navigate to the \"Notebook Runtime\" tab in the upper corner and follow the images below for resetting the cluster.  \n",
    "\n",
    "<img src=\"https://storage.googleapis.com/gatk-tutorials/workshop_1903/3-somatic/images/Cluster1.png\" width=\"600\"/>\n",
    "\n",
    "The complete link to paste into the url box is:\n",
    "\n",
    "```\n",
    "gs://gatk-tutorials/scripts/install_gatk_4100.sh\n",
    "\n",
    "```\n",
    "\n",
    "\n"
   ]
  },
  {
   "cell_type": "markdown",
   "metadata": {
    "colab_type": "text",
    "id": "k2GVN2uRSuJi"
   },
   "source": [
    "<img src=\"https://storage.googleapis.com/gatk-tutorials/workshop_1903/3-somatic/images/Cluster3.png\" width=\"600\"/>\n",
    "\n",
    "It will take a few minutes to create the cluster, click \"Apply\" once it is available.\n"
   ]
  },
  {
   "cell_type": "markdown",
   "metadata": {
    "colab_type": "text",
    "id": "v5VBSNzASuJj"
   },
   "source": [
    "### 2.)  Find the name of the google bucket.\n",
    "\n",
    "\n",
    "<img src=\"https://storage.googleapis.com/gatk-tutorials/workshop_1903/3-somatic/images/mutect2-image2.png\" width=\"900\"/>\n",
    "\n",
    "Replace the buckdet name in the following command with your bucket name:\n",
    "\n",
    "```\n",
    "bucket=\"gs://fc-your-bucket-name\"\n",
    "\n",
    "```\n",
    "\n"
   ]
  },
  {
   "cell_type": "code",
   "execution_count": null,
   "metadata": {
    "colab": {},
    "colab_type": "code",
    "id": "rRi0x9U6SuJk"
   },
   "outputs": [],
   "source": [
    "bucket = \"gs://fc-your-bucket-name\""
   ]
  },
  {
   "cell_type": "markdown",
   "metadata": {
    "colab_type": "text",
    "id": "DpNBoukfSuJn"
   },
   "source": [
    "Check to make sure that your variable loaded correctly.  We will use this at the end to load a file we have created into IGV."
   ]
  },
  {
   "cell_type": "code",
   "execution_count": null,
   "metadata": {
    "colab": {},
    "colab_type": "code",
    "id": "hAkWkbsySuJo",
    "outputId": "8dfba68a-9ee6-43e7-ef10-807a6c4196c8"
   },
   "outputs": [],
   "source": [
    "!echo $bucket"
   ]
  },
  {
   "cell_type": "markdown",
   "metadata": {
    "colab_type": "text",
    "id": "gRZbcrJJSuJs"
   },
   "source": [
    "### Check if data is accessible. The command should list several gs:// URLs.\n"
   ]
  },
  {
   "cell_type": "code",
   "execution_count": null,
   "metadata": {
    "colab": {
     "base_uri": "https://localhost:8080/",
     "height": 194
    },
    "colab_type": "code",
    "id": "FtXs1cBwSuJt",
    "outputId": "2ad2c9e8-c589-4600-ebbe-6abd7b03e230",
    "scrolled": false
   },
   "outputs": [],
   "source": [
    "!gsutil ls gs://gatk-tutorials/workshop_1903/3-somatic/"
   ]
  },
  {
   "cell_type": "markdown",
   "metadata": {
    "colab_type": "text",
    "id": "e2IV8VvHSuJw"
   },
   "source": [
    "If you do not see gs:// URLs listed above, create a new cell below and run this command to install Google Cloud Storage. \n",
    "Afterwards, restart the kernel with Kernel > Restart.\n",
    "\n",
    "```\n",
    "! pip install google-cloud-storage\n",
    "```"
   ]
  },
  {
   "cell_type": "markdown",
   "metadata": {
    "colab_type": "text",
    "id": "f_lTSouGSuJx"
   },
   "source": [
    "### Download Data to the Jupyter Notebooks in this Workspace\n",
    "\n",
    "The files can be called directly from the tutorial bucket, but to avoid accidentally overwriting other people's work, we will take the extra precaution of bringing the files into our local jupyter notebook.\n",
    "\n"
   ]
  },
  {
   "cell_type": "code",
   "execution_count": null,
   "metadata": {
    "colab": {},
    "colab_type": "code",
    "id": "P1RRPJ2sSuJy",
    "outputId": "4cafec08-377f-4bc2-81ca-135400ec4fb6",
    "scrolled": true
   },
   "outputs": [],
   "source": [
    "!gsutil -m cp -r gs://gatk-tutorials/workshop_1903/3-somatic/bams /home/jupyter-user/\n",
    "!gsutil -m cp -r gs://gatk-tutorials/workshop_1903/3-somatic/ref /home/jupyter-user/\n",
    "!gsutil -m cp -r gs://gatk-tutorials/workshop_1903/3-somatic/resources /home/jupyter-user/\n",
    "!gsutil -m cp -r gs://gatk-tutorials/workshop_1903/3-somatic/mutect2_precomputed /home/jupyter-user/"
   ]
  },
  {
   "cell_type": "code",
   "execution_count": null,
   "metadata": {
    "colab": {},
    "colab_type": "code",
    "id": "1bao01ptSuJ2"
   },
   "outputs": [],
   "source": [
    "!mkdir -p /home/jupyter-user/sandbox"
   ]
  },
  {
   "cell_type": "markdown",
   "metadata": {
    "colab_type": "text",
    "id": "_6wEkW_ZSuJ5"
   },
   "source": [
    "Check to see if the files are now in our local bucket"
   ]
  },
  {
   "cell_type": "code",
   "execution_count": null,
   "metadata": {
    "colab": {},
    "colab_type": "code",
    "id": "GabnpO4mSuJ6",
    "outputId": "1e495e35-1e77-4ce4-c01c-ffa08f0dac1d",
    "scrolled": true
   },
   "outputs": [],
   "source": [
    "!ls /home/jupyter-user"
   ]
  },
  {
   "cell_type": "markdown",
   "metadata": {
    "colab_type": "text",
    "id": "WebnziuBSuJ9"
   },
   "source": [
    "### Test to see if gatk is installed on your notebook cluster already\n",
    "```\n",
    "!gatk --list\n",
    "```"
   ]
  },
  {
   "cell_type": "code",
   "execution_count": null,
   "metadata": {
    "colab": {},
    "colab_type": "code",
    "id": "kAuso6GGSuJ-",
    "outputId": "ed2bd3e6-12ad-4d81-93ca-ebf822fac8e7"
   },
   "outputs": [],
   "source": [
    "!gatk --list"
   ]
  },
  {
   "cell_type": "markdown",
   "metadata": {
    "colab_type": "text",
    "id": "GP8V_VaLSuKC",
    "solution2": "hidden",
    "solution2_first": true
   },
   "source": [
    "### Use these instructions ONLY IF gatk did not install after waiting for the cluster to reload (1.1.2)"
   ]
  },
  {
   "cell_type": "markdown",
   "metadata": {
    "colab_type": "text",
    "id": "tfBFXPaVSuKD",
    "solution2": "hidden"
   },
   "source": [
    "If the previous error indicated gatk not found, download and unzip a precomplied copy of GATK4.1 \n",
    "\n",
    "```\n",
    "! wget -nc -P /home/jupyter-user/ https://github.com/broadinstitute/gatk/releases/download/4.1.0.0/gatk-4.1.0.0.zip\n",
    "```\n"
   ]
  },
  {
   "cell_type": "code",
   "execution_count": null,
   "metadata": {
    "colab": {},
    "colab_type": "code",
    "id": "Z42e0UzMSuKE",
    "scrolled": true,
    "solution2": "hidden"
   },
   "outputs": [],
   "source": [
    "#ONLY RUN THIS IS GATK DID NOT LOAD OR IF YOU WANT TO RUN THE TUTORIAL LOCALLY\n",
    "#! wget -nc -P /home/jupyter-user/ https://github.com/broadinstitute/gatk/releases/download/4.1.0.0/gatk-4.1.0.0.zip\n"
   ]
  },
  {
   "cell_type": "markdown",
   "metadata": {
    "colab_type": "text",
    "id": "S4Dm1BqoSuKG",
    "solution2": "hidden"
   },
   "source": [
    "\n",
    "Unzip GATK4.1\n",
    "\n",
    "```\n",
    "! if [ ! -d home/jupyter-user/gatk-4.1.0.0 ] ; then unzip -o /home/jupyter-user/gatk-4.1.0.0.zip -d /home/jupyter-user/\n",
    "\n",
    "```\n"
   ]
  },
  {
   "cell_type": "code",
   "execution_count": null,
   "metadata": {
    "colab": {},
    "colab_type": "code",
    "id": "iFqSzWX8SuKH",
    "scrolled": true,
    "solution2": "hidden"
   },
   "outputs": [],
   "source": [
    "#ONLY RUN THIS IS GATK DID NOT LOAD OR IF YOU WANT TO RUN THE TUTORIAL LOCALLY\n",
    "#!unzip -o /home/jupyter-user/gatk-4.1.0.0.zip -d /home/jupyter-user/\n"
   ]
  },
  {
   "cell_type": "markdown",
   "metadata": {
    "colab_type": "text",
    "id": "JA5tYm1jSuKK",
    "solution2": "hidden"
   },
   "source": [
    "\n",
    "Set GATK variable \n",
    "\n",
    "```\n",
    "gatk=\"/home/jupyter-user/gatk-4.1.0.0/gatk\"\n",
    "\n",
    "```"
   ]
  },
  {
   "cell_type": "code",
   "execution_count": null,
   "metadata": {
    "colab": {},
    "colab_type": "code",
    "id": "9G73jBhzSuKK",
    "solution2": "hidden"
   },
   "outputs": [],
   "source": [
    "#ONLY RUN THIS IS GATK DID NOT LOAD OR IF YOU WANT TO RUN THE TUTORIAL LOCALLY\n",
    "#gatk=\"/home/jupyter-user/gatk-4.1.0.0/gatk\""
   ]
  },
  {
   "cell_type": "markdown",
   "metadata": {
    "colab_type": "text",
    "id": "UuQbDZbOSuKO",
    "scrolled": false,
    "solution2": "hidden"
   },
   "source": [
    "\n",
    "\n",
    "**PLEASE NOTE THAT IF YOU HAD TO INSTALL GATK MANUALLY, THE FOLLOWING COMMANDS WILL REQUIRE \\\"\\$\\\" IN FRONT OF GATK**\n",
    "\n",
    "\n",
    "For example, if gatk was already loaded:\n",
    "\n",
    "\n",
    "```\n",
    "\n",
    "!gatk --list\n",
    "\n",
    "```\n",
    "\n",
    "provides a list of available programs.\n",
    "\n",
    "If a local install was necessary:\n",
    "\n",
    "```\n",
    "\n",
    "!$gatk --list\n",
    "\n",
    "```\n",
    "\n",
    "is the correct command"
   ]
  },
  {
   "cell_type": "markdown",
   "metadata": {
    "colab_type": "text",
    "id": "N9BVUzTuAgWn"
   },
   "source": [
    "\n",
    "\n",
    "# CALL SOMATIC SNV & INDELS WITH MUTECT2\n",
    "\n",
    "<img src=\"https://storage.googleapis.com/gatk-tutorials/workshop_1903/3-somatic/images/BP_somatic_snps_indels_4_1_00.png\" width=\"900\"/>\n",
    "\n",
    "\n"
   ]
  },
  {
   "cell_type": "markdown",
   "metadata": {
    "colab_type": "text",
    "id": "RepDe-BKDdeI"
   },
   "source": [
    "\n",
    "## Call somatic SNVs and indels and generate a BAMOUT\n",
    "\n",
    "\n",
    "\n",
    "We start by calling somatic short mutations on our HCC1143 tumor sample and matched normal using Mutect2.\n",
    "\n",
    "\n",
    "\n",
    "\n",
    "```\n",
    "\n",
    "!gatk Mutect2 \\\n",
    "      -R /home/jupyter-user/ref/Homo_sapiens_assembly38.fasta \\\n",
    "     # Mutect2 may input more tumor samples from the same individual \n",
    "      -I /home/jupyter-user//bams/tumor.bam \\\n",
    "     # Mutect2 may input matched normals from the same individual\n",
    "      -I /home/jupyter-user/bams/normal.bam \\\n",
    "      -tumor HCC1143_tumor \\\n",
    "      -normal HCC1143_normal \\\n",
    "     # Mutect2 may input a panel of normals to help identify technical artifacts\n",
    "      -pon /home/jupyter-user/resources/chr17_m2pon.vcf.gz \\    \n",
    "      # For most purposes Mutect2 should be supplied with gnomAD\n",
    "      --germline-resource /home/jupyter-user//resources/chr17_af-only-gnomad_grch38.vcf.gz \\\n",
    "      -L /home/jupyter-user/resources/chr17plus.interval_list \\\n",
    "     # Mutect2 may input parameters learned by CollectF1R2Counts \n",
    "     # and LearnReadOrientationModel for one or more tumor samples\n",
    "     #(Not set currently) --orientation-bias-artifact-priors tumor1-artifact-prior.tsv \\\n",
    "     -O /home/jupyter-user//sandbox/1_somatic_m2.vcf.gz \\\n",
    "     -bamout /home/jupyter-user/sandbox/2_tumor_normal_m2.bam\n",
    "\n",
    "```\n",
    "\n",
    "This command produces a raw unfiltered somatic callset restricted to the specified intervals list plus a BAM containing reassembled alignments. "
   ]
  },
  {
   "cell_type": "code",
   "execution_count": null,
   "metadata": {
    "colab": {},
    "colab_type": "code",
    "id": "8-6qq6qrBk5s",
    "outputId": "3f955c57-4034-4e6f-f644-992d4f9d3393"
   },
   "outputs": [],
   "source": [
    "!gatk Mutect2 \\\n",
    "     -R /home/jupyter-user/ref/Homo_sapiens_assembly38.fasta \\\n",
    "     -I /home/jupyter-user/bams/tumor.bam \\\n",
    "     -I /home/jupyter-user/bams/normal.bam \\\n",
    "     -tumor HCC1143_tumor \\\n",
    "     -normal HCC1143_normal \\\n",
    "     -pon /home/jupyter-user/resources/chr17_m2pon.vcf.gz \\\n",
    "     --germline-resource /home/jupyter-user//resources/chr17_af-only-gnomad_grch38.vcf.gz \\\n",
    "     -L /home/jupyter-user/resources/chr17plus.interval_list \\\n",
    "     -O /home/jupyter-user//sandbox/1_somatic_m2.vcf.gz \\\n",
    "     -bamout /home/jupyter-user//sandbox/2_tumor_normal_m2.bam"
   ]
  },
  {
   "cell_type": "markdown",
   "metadata": {
    "colab_type": "text",
    "id": "Rxj_qRo1Bglg"
   },
   "source": [
    "\n",
    "\n",
    "\n",
    "*  GATK4.0.2.1+ Mutect2 disables the `MateOnSameContigOrNoMappedMateReadFilter` by default. Previous versions of the tutorial add a parameter to disable this read filter.\n",
    "\n",
    "* GATK4.0.4.0+ instantiate different default values for the `--af-of-alleles-not-in-resource` parameter depending on mode. By default, case-only calling now uses 5e-8 and matched-control calling uses 1e-5. Previously, the default was 0.001, the average heterozygosity of humans, and the recommendation was to change this to 1/(2\\*samples in resource), which is 2.5e-6 for our particular resource.\n",
    "\n",
    "Mutect2 skips from analysis likely variant *sites* in the matched-control (germline) and sites in the PoN (likely artifactual). It will include borderline variant sites. If you need, you can include all sites with `--genotype-germline-sites` and `–-genotype-pon-sites`. \n",
    "\n",
    "The tool considers germline resource alleles. Namely, the tool will annotate variant alleles with the germline resource population allele frequencies or the frequency defined by ``–-af-of-alleles-not-in-resource`. Downstream filtering will use these values. \n",
    "\n",
    "\n"
   ]
  },
  {
   "cell_type": "markdown",
   "metadata": {
    "colab_type": "text",
    "id": "Vlw3wb_GCBDH"
   },
   "source": [
    "\n",
    "**➤ What is the value of using a matched normal control?**\n",
    "\n",
    "\n",
    "\n"
   ]
  },
  {
   "cell_type": "markdown",
   "metadata": {
    "colab_type": "text",
    "id": "nZ0r3Wf2D7Jt"
   },
   "source": [
    "### A. Mutect2 uses the matched normal to additionally exclude rare germline variation not captured by the germline resource and individual-specific artifacts. \n",
    "\n",
    "\n",
    "<img style=\"float: right;\" src=\"https://storage.googleapis.com/gatk-tutorials/workshop_1903/3-somatic/images/Matchednormal.png\" width=\"300\"/>\n",
    "\n",
    "To illustrate, if we run our tumor sample through Mutect2 without the matched normal (we do not recommend this). \n",
    "\n",
    "We get 48,371 calls, an order of magnitude more calls than with the matched normal. Yikes. Note that without a matched normal, the tool skips any allele that corresponds to a population allele frequency of 0.001 or higher and so the count excludes common germline variant sites. The 0.001 is the average heterozygosity of humans. Basically, knowing nothing at all about a site, this is a rough prior probability that there is a germline event there. \n",
    "\n",
    "### Mutect2 uses a germline population resource towards evidence of alleles being germline.\n",
    "\n",
    "The simplified sites-only [gnomAD](http://gnomad.broadinstitute.org/) resource retaining allele-specific frequencies is available at <ftp://gsapubftp-anonymous@ftp.broadinstitute.org/bundle/Mutect2>. It represents germline calls from ~200K exomes and ~16K genomes. Mutect2 uses the allele-specific frequency in its likelihood calculations for a variant being of somatic origin. In our example, the gnomAD resource `af-only-gnomad_grch38.vcf.gz` represents ~200k exomes and the tutorial data is exome data, so we use the tool default of 1e-5 for `--af-of-alleles-not-in-resource`, which is roughly in the same ballpark as 0.0000025 (1/(2*exome samples)). It's not an exact formula since you're just guessing allele frequency based on its absence in gnomAD. This value is an expected imputed value and not a bound."
   ]
  },
  {
   "cell_type": "markdown",
   "metadata": {
    "colab_type": "text",
    "id": "H7bT699CEb3J"
   },
   "source": [
    "\n",
    "\n",
    "### A panel of normals (PoN) has a vital role that fills a gap between the matched normal and the population resource. \n",
    "\n",
    "\n",
    "Mutect2 uses the PoN to catch additional sites of noise in sequencing data, like mapping artifacts or other somewhat random but systematic artifacts of sequencing and data processing. PoN in gatk4.1.0 for technical artifacts and not for germline variants.  The next version in gatk 4.1.1 will use GenomicDBImports and be much more efficient.\n"
   ]
  },
  {
   "cell_type": "markdown",
   "metadata": {
    "colab_type": "text",
    "id": "BP9p9-roEv6n"
   },
   "source": [
    "\n",
    "\n",
    "##  Make a panel of normals (PoN)\n",
    "\n",
    "* The PoN used here was made using GATK4.beta.6 with 40 exome samples aligned to GRCh38 from the [1000 Genomes Project](http://www.internationalgenome.org/). \n",
    "\n",
    "* Ideally, the PoN should *include* technically similar samples that were sequenced on the same platform, e.g. HiSeqX, using the same chemistry and analyzed using the same reference genome and tool-chain. \n",
    "\n",
    "* However, even an unmatched PoN is better than no PoN at all. This is because mapping artifacts and polymerase slippage errors occur for pretty much the same genomic loci for short read sequencing approaches.\n",
    "\n",
    "\n"
   ]
  },
  {
   "cell_type": "markdown",
   "metadata": {
    "colab_type": "text",
    "id": "fmMEwVxcXxPq"
   },
   "source": [
    "### To make your own PoN, run Mutect2 in tumor-only mode on each normal BAM individually then run `CreateSomaticPanelOfNormals` on the resulting VCFs.\n",
    "\n",
    "For this tutorial, to practice the commands, we will generate a PoN from three precomputed VCFs, but will not run the tumor-only mode command. An example command is shown (DO NOT RUN). \n",
    "\n",
    "\n",
    "```\n",
    "\n",
    "!gatk Mutect2 \\\n",
    "       -R /home/jupyter-user/ref/Homo_sapiens_assembly38.fasta \\\n",
    "       -I /home/jupyter-user/bams/HG00701.bam \\\n",
    "       -tumor /home/jupyter-user//HG00701 \\\n",
    "       -L /home/jupyter-user/resources/chr17plus.interval_list \\\n",
    "       -O /home/jupyter-user/3-somatic/sandbox/3_HG00701.vcf.gz \n",
    "\n",
    "```\n",
    "\n"
   ]
  },
  {
   "cell_type": "markdown",
   "metadata": {
    "colab_type": "text",
    "id": "Cp0YI_rTFOGa"
   },
   "source": [
    "\n",
    "\n",
    "This generates `3_HG00701.vcf.gz` M2 callset and a matching index. \n",
    "\n",
    "NOTE: This takes an extremely long time to run, so we are not doing it today.  To run it at a later date/time, make sure to remove the \"#\" from the front of the lines in the code cell.\n",
    "\n",
    "---"
   ]
  },
  {
   "cell_type": "code",
   "execution_count": null,
   "metadata": {
    "colab": {},
    "colab_type": "code",
    "id": "tL7OJGDUFfY-",
    "outputId": "ab0ab594-fb0a-45fd-e91d-b9dbe55bc599",
    "scrolled": false
   },
   "outputs": [],
   "source": [
    "#!gatk Mutect2 \\\n",
    "#       -R /home/jupyter-user/ref/Homo_sapiens_assembly38.fasta \\\n",
    "#       -I /home/jupyter-user/bams/HG00701.bam \\\n",
    "#       -tumor /home/jupyter-user//HG00701 \\\n",
    "#       -L /home/jupyter-user/resources/chr17plus.interval_list \\\n",
    "#       -O /home/jupyter-user/sandbox/3_HG00701.vcf.gz "
   ]
  },
  {
   "cell_type": "markdown",
   "metadata": {
    "colab_type": "text",
    "id": "g2aYUxo2FXvA"
   },
   "source": [
    "### Next, collate all the normal VCFs into a single callset with `CreateSomaticPanelOfNormals`.\n",
    "\n",
    "\n",
    "For the tutorial, we run this command on three small normal sample VCFs from [1KGP](http://www.internationalgenome.org/). This generates a PoN VCF `6_threesamplepon.vcf.gz` and an index.\n",
    "\n",
    "\n",
    "```\n",
    "\n",
    "!gatk CreateSomaticPanelOfNormals \\\n",
    "     -vcfs /home/jupyter-user/mutect2_precomputed/3_HG00701.vcf.gz \\\n",
    "     -vcfs /home/jupyter-user/mutect2_precomputed/4_NA19771.vcf.gz \\\n",
    "     -vcfs /home/jupyter-user/mutect2_precomputed/5_HG02759.vcf.gz \\\n",
    "     -O /home/jupyter-user/sandbox/6_threesamplepon.vcf.gz\n",
    "\n",
    "```\n",
    "        \n",
    "`CreateSomaticPanelOfNormals` retains sites with variants in two or more samples. \n",
    "\n",
    "The `--min-sample-count` is set to two by default and you can adjust this to any number. \n",
    "\n",
    "The tool retains the alleles from the samples but drops all other annotations to create an eight-column, sites-only VCF. \n",
    "\n",
    "---\n",
    "\n",
    "NOTE: This takes an extremely long time to run, so we are not doing it today. To run it at a later date/time, make sure to remove the \"#\" from the front of the lines in the code cell."
   ]
  },
  {
   "cell_type": "code",
   "execution_count": null,
   "metadata": {
    "colab": {},
    "colab_type": "code",
    "id": "uBV-dbF2G1Vb",
    "outputId": "24737a37-5111-4917-ea81-cad718a03a73",
    "scrolled": true
   },
   "outputs": [],
   "source": [
    "#!gatk CreateSomaticPanelOfNormals \\\n",
    "#     -vcfs /home/jupyter-user/mutect2_precomputed/3_HG00701.vcf.gz \\\n",
    "#     -vcfs /home/jupyter-user/mutect2_precomputed/4_NA19771.vcf.gz \\\n",
    "#     -vcfs /home/jupyter-user/mutect2_precomputed/5_HG02759.vcf.gz \\\n",
    "#     -O /home/jupyter-user/sandbox/6_threesamplepon.vcf.gz"
   ]
  },
  {
   "cell_type": "markdown",
   "metadata": {
    "colab_type": "text",
    "id": "EiHrekoFF8m8"
   },
   "source": [
    "\n",
    "\n",
    "**➤What annotations does the M2 PoN contain?**\n",
    "\n",
    "\n"
   ]
  },
  {
   "cell_type": "markdown",
   "metadata": {
    "colab_type": "text",
    "id": "l1HrltU5Ub3D"
   },
   "source": [
    "## Mutect2 mutation calls can be multiallelic\n",
    "\n",
    "To illustrate how Mutect2 applies annotations, below is a multiallelic site from the callset. Pull this out by running `gzcat` or `!zcat sandbox/1_somatic_m2.vcf.gz | awk '$5 ~\",\"'`. The `awk '$5 ~\",\"'`` subsets records that contain a comma in the 5th column.\n",
    "\n",
    "Running the first cell shows mutation calls that have a single allele.\n",
    "\n",
    "Running the second cell shows mutation calls that have mutliple alleles.\n"
   ]
  },
  {
   "cell_type": "code",
   "execution_count": null,
   "metadata": {},
   "outputs": [],
   "source": [
    "!zcat /home/jupyter-user/sandbox/1_somatic_m2.vcf.gz | grep -v \"##\"  | awk -F \"\\t\" '$5 !~\",\"'"
   ]
  },
  {
   "cell_type": "code",
   "execution_count": null,
   "metadata": {
    "colab": {},
    "colab_type": "code",
    "id": "rcGOjCJDXVwG",
    "outputId": "25ae534f-d65b-47de-d965-396fbb2d67bc",
    "scrolled": true
   },
   "outputs": [],
   "source": [
    "!zcat /home/jupyter-user/sandbox/1_somatic_m2.vcf.gz | awk -F \"\\t\" '$5 ~\",\"'"
   ]
  },
  {
   "cell_type": "markdown",
   "metadata": {
    "colab_type": "text",
    "id": "XMyXLpMXSuKj"
   },
   "source": [
    "<img src=\"https://storage.googleapis.com/gatk-tutorials/workshop_1903/3-somatic/images/bluebox1.png\" width=\"900\"/>"
   ]
  },
  {
   "cell_type": "markdown",
   "metadata": {
    "colab_type": "text",
    "id": "_o_EEHn1XR0B"
   },
   "source": [
    "We see eleven columns of information per variant call including genotype calls for the normal and tumor. Notice the empty fields for QUAL and FILTER, and annotations at the site (INFO) and sample level (columns 10 and 11). The samples each have genotypes and when a site is multiallelic, we see allele-specific annotations. Samples may have additional annotations, e.g. `PGT` and `PID` that relate to phasing. For a summary description of each annotation, view the header ##FORMAT and ##INFO lines.\n",
    "\n",
    "<img src=\"https://storage.googleapis.com/gatk-tutorials/workshop_1903/3-somatic/images/Format.png\" width=\"900\"/>"
   ]
  },
  {
   "cell_type": "markdown",
   "metadata": {
    "colab_type": "text",
    "id": "iLLMsfN9hXVc"
   },
   "source": [
    "\n",
    "\n",
    "#  FILTER FOR CONFIDENT SOMATIC CALLS\n",
    "\n",
    "In section 1.1, we generated an unfiltered Mutect2 callset. Now, we will use filtering tools to identify which mutation candidates are likely to be real somatic mutations.\n",
    "\n"
   ]
  },
  {
   "cell_type": "markdown",
   "metadata": {
    "colab_type": "text",
    "id": "6ovnBYBlh45A"
   },
   "source": [
    "\n",
    "\n",
    "## Estimate cross-sample contamination \n",
    "\n",
    "We estimate cross-sample contamination with two tools `GetPileupSummaries` and `CalculateContamination`. The estimation involves a known germline variant resource to limit analyses to sites that are not commonly variant, which we set to less than 20% population allele frequency. The statistics of contamination estimation is tuned to expectations in humans. `GetPileupSummaries` checks the given sample at these sites and uses those that it determines are homozygous-variant and uses contaminating alleles towards estimating contamination. The approach accounts for regions of potential loss of heterozygosity as well as copy number variation in its estimation. \n",
    "\n"
   ]
  },
  {
   "cell_type": "markdown",
   "metadata": {
    "colab_type": "text",
    "id": "SOZsSee9iAap"
   },
   "source": [
    "\n",
    "\n",
    "### `GetPileupSummaries` to summarize read support for a set number of known variant sites. \n",
    "\n",
    "Here we use a human population germline resource, [gnomAD]( http://gnomad.broadinstitute.org/), filtered to contain biallelic SNP variants present at 0.051 to 0.499 allele frequency in the population. The tool tabulates read counts that support REF, ALT and OTHER alleles for the sites in the resource. Let's run the tool on the tumor and the normal.\n",
    "\n",
    "\n",
    "```\n",
    "!gatk GetPileupSummaries \\\n",
    "    -I /home/jupyter-user/bams/tumor.bam \\\n",
    "    -V /home/jupyter-user/resources/chr17_small_exac_common_3_grch38.vcf.gz \\\n",
    "    -L /home/jupyter-user/resources/chr17_small_exac_common_3_grch38.vcf.gz \\\n",
    "    -O /home/jupyter-user/sandbox/7_tumor_getpileupsummaries.table\n",
    "```\n",
    "\n",
    "---\n",
    "This first run is on the tumor samples."
   ]
  },
  {
   "cell_type": "code",
   "execution_count": null,
   "metadata": {
    "colab": {},
    "colab_type": "code",
    "id": "Ygt9psaFijdQ",
    "outputId": "ed4a9e18-1609-4285-ac5c-9dd2d290101e"
   },
   "outputs": [],
   "source": [
    "!gatk GetPileupSummaries \\\n",
    "    -I /home/jupyter-user/bams/tumor.bam \\\n",
    "    -V /home/jupyter-user/resources/chr17_small_exac_common_3_grch38.vcf.gz \\\n",
    "    -L /home/jupyter-user/resources/chr17_small_exac_common_3_grch38.vcf.gz \\\n",
    "    -O /home/jupyter-user/sandbox/7_tumor_getpileupsummaries.table"
   ]
  },
  {
   "cell_type": "markdown",
   "metadata": {
    "colab_type": "text",
    "id": "bDxE_zH3iF0N"
   },
   "source": [
    "\n",
    "\n",
    "\n",
    "```\n",
    "!gatk GetPileupSummaries \\\n",
    "    -I /home/jupyter-user/bams/normal.bam \\\n",
    "    -V /home/jupyter-user/resources/chr17_small_exac_common_3_grch38.vcf.gz \\\n",
    "    -L /home/jupyter-user/resources/chr17_small_exac_common_3_grch38.vcf.gz \\\n",
    "    -O /home/jupyter-user/sandbox/7_normal_getpileupsummaries.table\n",
    "```\n",
    "\n",
    "---\n",
    "The second run is on the normal samples.\n"
   ]
  },
  {
   "cell_type": "code",
   "execution_count": null,
   "metadata": {
    "colab": {},
    "colab_type": "code",
    "id": "M3bnWCBsipkL",
    "outputId": "ef398d8d-d933-44d4-8937-b1d70d5eb509"
   },
   "outputs": [],
   "source": [
    "!gatk GetPileupSummaries \\\n",
    "    -I /home/jupyter-user/bams/normal.bam \\\n",
    "    -V /home/jupyter-user/resources/chr17_small_exac_common_3_grch38.vcf.gz \\\n",
    "    -L /home/jupyter-user/resources/chr17_small_exac_common_3_grch38.vcf.gz \\\n",
    "    -O /home/jupyter-user/sandbox/7_normal_getpileupsummaries.table"
   ]
  },
  {
   "cell_type": "markdown",
   "metadata": {
    "colab_type": "text",
    "id": "A8AybONxiJsJ"
   },
   "source": [
    "\n",
    "Each command produces a six-column table as shown. The `alt_count` is the count of reads that support the ALT allele in the germline resource. The `allele_frequency` corresponds to that given in the germline resource. Counts for `other_alt_count` refer to reads that support all other alleles.\n",
    "\n",
    "<img src=\"https://storage.googleapis.com/gatk-tutorials/workshop_1903/3-somatic/images/bluebox2.png\" width=\"700\"/>\n",
    "\n"
   ]
  },
  {
   "cell_type": "code",
   "execution_count": null,
   "metadata": {
    "colab": {},
    "colab_type": "code",
    "id": "OCyYeLaDSuL1"
   },
   "outputs": [],
   "source": [
    "!head /home/jupyter-user/sandbox/7_tumor_getpileupsummaries.table"
   ]
  },
  {
   "cell_type": "code",
   "execution_count": null,
   "metadata": {
    "colab": {},
    "colab_type": "code",
    "id": "p50vZcz7YVu4"
   },
   "outputs": [],
   "source": [
    "!head /home/jupyter-user/sandbox/7_normal_getpileupsummaries.table"
   ]
  },
  {
   "cell_type": "markdown",
   "metadata": {
    "colab_type": "text",
    "id": "0M7_OdaPWvEA"
   },
   "source": [
    "The tool considers *homozygous-variant* sites in the sample where the alternate allele frequency (AF) in the population resource ranges between 0.01 and 0.2. This range is adjustable. We can expect a lot of contamination by alternate alleles at sites where the alternate AF is large, so those sites wouldn't tell us much. Conversely, at homozygous-alternate sites where the variant allele is rare in the population, we are more likely to observe the presence of REF or other alleles if there was cross-sample contamination, and therefore we will be able to measure contamination more accurately.\n",
    "\n"
   ]
  },
  {
   "cell_type": "markdown",
   "metadata": {
    "colab_type": "text",
    "id": "rnUIU7W6i4LQ"
   },
   "source": [
    "\n",
    "\n",
    "### Estimate contamination with `CalculateContamination`.\n",
    "\n",
    "The tool gives the fraction contamination. This estimation informs downstream filtering by FilterMutectCalls. \n",
    "\n",
    "```\n",
    "!$gatk CalculateContamination \\\n",
    "\n",
    "    -I /home/jupyter-user/3-somatic/sandbox/7_tumor_getpileupsummaries.table \\\n",
    "    -O /home/jupyter-user/3-somatic/sandbox/8_tumor_calculatecontamination.table\n",
    "```\n",
    "\n"
   ]
  },
  {
   "cell_type": "code",
   "execution_count": null,
   "metadata": {
    "colab": {},
    "colab_type": "code",
    "id": "Gj92kJ1zj9UX",
    "outputId": "12fc5c94-986f-4f1c-cabf-9ad766ba67b7"
   },
   "outputs": [],
   "source": [
    "!gatk CalculateContamination \\\n",
    "    -I /home/jupyter-user/sandbox/7_tumor_getpileupsummaries.table \\\n",
    "    -O /home/jupyter-user/sandbox/8_tumor_calculatecontamination.table"
   ]
  },
  {
   "cell_type": "markdown",
   "metadata": {
    "colab_type": "text",
    "id": "2F8YksrWj3t8"
   },
   "source": [
    "\n",
    "\n",
    "Let's also try out an additional feature of the tool. We can provide both the tumor and the matched normal pileup table. The pairing can allow for a slightly more accurate estimate. \n",
    "\n",
    "\n",
    "```\n",
    "!$gatk CalculateContamination \\\n",
    "    -I /home/jupyter-user/sandbox/7_tumor_getpileupsummaries.table \\\n",
    "    # the normal pileups are useful but optional\n",
    "    -matched /home/jupyter-user/sandbox/7_normal_getpileupsummaries.table \\\n",
    "    # it is highly recommended to produce segments for FilterMutectCalls\n",
    "    # (Not set currently) -tumor-segmentation segments.table]\n",
    "    -O /home/jupyter-user/sandbox/8_pair_calculatecontamination.table \n",
    "\n",
    "```\n",
    "\n"
   ]
  },
  {
   "cell_type": "code",
   "execution_count": null,
   "metadata": {
    "colab": {},
    "colab_type": "code",
    "id": "Opwp8OsBkdlS",
    "outputId": "35326248-6aa0-43d5-84d2-1ca0ee50ac02"
   },
   "outputs": [],
   "source": [
    "!gatk CalculateContamination \\\n",
    "    -I /home/jupyter-user/sandbox/7_tumor_getpileupsummaries.table \\\n",
    "    -matched /home/jupyter-user/sandbox/7_normal_getpileupsummaries.table \\\n",
    "    -O /home/jupyter-user/sandbox/8_pair_calculatecontamination.table "
   ]
  },
  {
   "cell_type": "markdown",
   "metadata": {
    "colab_type": "text",
    "id": "p4Bb5JHikKCd"
   },
   "source": [
    "\n",
    "The resulting files from the two variations each give the fraction contamination. Run these to view results: \n",
    "\n",
    "* `!cat /home/jupyter-user/sandbox/8_tumor_calculatecontamination.table`\n",
    "* `!cat /home/jupyter-user/sandbox/8_pair_calculatecontamination.table` \n",
    "\n"
   ]
  },
  {
   "cell_type": "code",
   "execution_count": null,
   "metadata": {
    "colab": {},
    "colab_type": "code",
    "id": "JW6qYWhiKCL5",
    "outputId": "7c22459b-fa21-4385-f5d3-16d6e0049817"
   },
   "outputs": [],
   "source": [
    "!cat /home/jupyter-user/sandbox/8_tumor_calculatecontamination.table"
   ]
  },
  {
   "cell_type": "code",
   "execution_count": null,
   "metadata": {
    "colab": {},
    "colab_type": "code",
    "id": "BT0GuhKbKCnF",
    "outputId": "4d1edf00-7f53-4a3f-de24-b0134ec4244f"
   },
   "outputs": [],
   "source": [
    "!cat /home/jupyter-user/sandbox/8_pair_calculatecontamination.table"
   ]
  },
  {
   "cell_type": "markdown",
   "metadata": {
    "colab_type": "text",
    "id": "7LdPqRm7KAvg"
   },
   "source": [
    "For our small tumor BAM file, you can see the contamination is ~0.0191 with an error of ~0.0022. We get a slightly lower number, ~0.0120 +/– 0.00454 for the matched estimate. For the full BAM file, we see a slightly larger contamination number. This threshold informs you to be wary of calls with less than that number for the alternate allele fraction.\n",
    "\n",
    "---"
   ]
  },
  {
   "cell_type": "markdown",
   "metadata": {
    "colab_type": "text",
    "id": "2juBtsYHkPfC"
   },
   "source": [
    "\n",
    "## Apply filters with `FilterMutectCalls`\n",
    "\n",
    "In this step, we filter the small data, 1_somatic_m2.vcf, with `FilterMutectCalls`. []Tutorial#11136](https://software.broadinstitute.org/gatk/documentation/article?id=11136) provides the full Mutect2 callset using v4.0.0.0 and tallies filtering results. The tool uses the annotations within the callset, and if provided, uses the contamination table in filtering. Default settings are tuned for human somatic analyses.\n",
    "\n",
    "```\n",
    "!$gatk FilterMutectCalls \\\n",
    "    -V /home/jupyter-user/sandbox/1_somatic_m2.vcf.gz \\\n",
    "    # FilterMutectCalls may input segmentation for one or more \\\n",
    "    # tumor samples from CalculateContamination \\\n",
    "    #(Not set currently)  --tumor-segmentation segments1.table \\\n",
    "    --contamination-table /home/jupyter-user/sandbox/8_tumor_calculatecontamination.table \\\n",
    "    # FilterMutectCalls may input contamination estimates for one or more \\ \n",
    "    #tumor samples from CalculateContamination \\\n",
    "    --stats /home/jupyter-user/sandbox/9_somatic_oncefiltered.stats.txt \\\n",
    "    -O /home/jupyter-user/sandbox/9_somatic_oncefiltered.vcf.gz\n",
    "```\n",
    "\n"
   ]
  },
  {
   "cell_type": "code",
   "execution_count": null,
   "metadata": {
    "colab": {},
    "colab_type": "code",
    "id": "ylouDsIzJbb9",
    "outputId": "6a7fc7d4-5bc3-438c-ac59-2e607939c9ec",
    "scrolled": false
   },
   "outputs": [],
   "source": [
    "!gatk FilterMutectCalls \\\n",
    "    -V /home/jupyter-user/sandbox/1_somatic_m2.vcf.gz \\\n",
    "    --contamination-table /home/jupyter-user/sandbox/8_tumor_calculatecontamination.table \\\n",
    "    --stats /home/jupyter-user/sandbox/9_somatic_oncefiltered.stats.txt \\\n",
    "    -O /home/jupyter-user/sandbox/9_somatic_oncefiltered.vcf.gz"
   ]
  },
  {
   "cell_type": "markdown",
   "metadata": {
    "colab_type": "text",
    "id": "NMqC6uQTkagn"
   },
   "source": [
    "\n",
    "\n",
    "This produces a VCF callset `9_somatic_oncefiltered.vcf.gz` and index. Calls that are likely true positives get the PASS label in the FILTER field, and calls that are likely false positives are labeled with the reason(s) for filtering in the FILTER field of the VCF. We can view the available filters in the VCF header using \n",
    "\n",
    "* `!zgrep '##FILTER' /home/jupyter-user/sandbox/9_somatic_oncefiltered.vcf.gz`\n",
    "\n",
    "\n"
   ]
  },
  {
   "cell_type": "code",
   "execution_count": null,
   "metadata": {
    "colab": {},
    "colab_type": "code",
    "id": "s3HOlwjeJ5rr",
    "outputId": "5449795f-5d04-4cfc-c2f4-4971dd007933",
    "scrolled": true
   },
   "outputs": [],
   "source": [
    "!zgrep '##FILTER' /home/jupyter-user/sandbox/9_somatic_oncefiltered.vcf.gz"
   ]
  },
  {
   "cell_type": "markdown",
   "metadata": {
    "colab_type": "text",
    "id": "YRiNF3q8J3e4"
   },
   "source": [
    "<img src=\"https://storage.googleapis.com/gatk-tutorials/workshop_1903/3-somatic/images/bluebox3.png\" width=\"900\"/>\n",
    "\n",
    "This step seemingly applies 20 filters, including contamination. However, if an annotation a filter relies on is absent, the tool skips the particular filtering. The filter will still appear in the header. For example, the `duplicate_evidence` filter requires a nonstandard annotation that our callset omits. \n",
    "\n",
    "---\n",
    "\n"
   ]
  },
  {
   "cell_type": "markdown",
   "metadata": {
    "colab_type": "text",
    "id": "mm0-Fs0Nlp1A"
   },
   "source": [
    "\n",
    "## (Optional) Filter on sequence context artifacts \n",
    "\n",
    "To mitigate the effects of sequence context artifacts, e.g. OxoG and FFPE, the workflow uses another filtering tool, `FilterByOrientationBias`. The tool requires metrics generated by `CollectSequencingArtifactMetrics`, which we provide. \n",
    "\n",
    "This is the old version of the code, we are not going to run this.\n",
    "---\n",
    "For details on generating the metrics, see Section 5 of [Tutorial#11136](https://gatkforums.broadinstitute.org/dsde/discussion/11136#5)\n",
    "\n",
    "\n",
    "```\n",
    "!gatk FilterByOrientationBias \\\n",
    "    -AM C/T \\\n",
    "    -AM G/T \\\n",
    "    -V /home/jupyter-user/sandbox/9_somatic_oncefiltered.vcf.gz \\\n",
    "    -P /home/jupyter-user/mutect2_precomputed/10_tumor_artifact.pre_adapter_detail_metrics.txt \\\n",
    "    -O /home/jupyter-user/sandbox/11_somatic_twicefiltered.vcf.gz\n",
    "\n",
    "```\n",
    "---\n",
    "\n",
    "This tool has been replaced with two tools.  Both are run to generate a tsv containing the artifact priors which are entered into the initial Mutect2 command as this parameter:\n",
    "\n",
    "```\n",
    "--orientation-bias-artifact-priors tumor1-artifact-prior.tsv\n",
    "```\n",
    "\n",
    "\n",
    "It is no longer necessary to specify ref/alt biases such as C/T or G/T, as all of them are checked in the newer code.\n",
    "\n",
    "Here is the newer code version\n",
    "\n",
    "```\n",
    "!gatk CollectF1R2Counts \\\n",
    "     -R reference.fasta \\\n",
    "     -I tumor.bam \\\n",
    "     #a outputs tab-separated output table of pileup data over alt sites\n",
    "     -alt-table tumor-alt.tsv \\\n",
    "     #Outputs metrics file with overall summary metrics and \\\n",
    "     #reference context-specific depth histograms (required)\n",
    "     -ref-hist tumor-ref.metrics \\\n",
    "     #Outputs a histogram of alt sites with alt depth = 1 (required)\n",
    "      -alt-hist tumor-alt.metrics\n",
    "```\n",
    "\n",
    "\n",
    "```\n",
    "!gatk LearnReadOrientationModel \\\n",
    "   -alt-table tumor-alt.tsv \\\n",
    "   -ref-hist tumor-ref.metrics \\\n",
    "   -alt-hist tumor-alt.metrics \\\n",
    "   -O tumor-artifact-prior.tsv\n",
    "\n",
    "\n",
    "```\n",
    "\n",
    "The read orientation artifact, also known as the orientation bias artifact, arises due to a chemical change in the nucleotide during library prep that results in, for example, G base-paring with A. This kind of artifact has a clear signature (e.g. C to A SNP that occurs predominantly for the middle C in the DNA sequence CCG), and it's single-stranded in nature. Downstream, this artifact manifests as low allele fraction SNPs whose evidence for the alt allele consists almost entirely F1R2 reads or F2R1 reads. A read pair is F1R2 (forward 1st, reverse 2nd) if the sequence of bases in Read 1 maps to the forward strand of the reference (F1), and the sequence of Read 2 to the reverse strand of the reference (R2). F2R1 is defined similarly.\n",
    "\n",
    "Thank you Takuto Sato for the loan of this image.\n",
    "\n",
    "<img src=\"https://storage.googleapis.com/gatk-tutorials/workshop_1903/3-somatic/images/orientationbias.png\" width=\"750\"/>"
   ]
  },
  {
   "cell_type": "code",
   "execution_count": null,
   "metadata": {
    "colab": {},
    "colab_type": "code",
    "id": "GbC6-MBzWHVn",
    "outputId": "5f516b19-fda6-424e-cd57-615c7bb0d0c8"
   },
   "outputs": [],
   "source": [
    "#!gatk FilterByOrientationBias \\\n",
    "#    -AM C/T \\\n",
    "#    -AM G/T \\\n",
    "#    -V /home/jupyter-user/sandbox/9_somatic_oncefiltered.vcf.gz \\\n",
    "#    -P /home/jupyter-user/mutect2_precomputed/10_tumor_artifact.pre_adapter_detail_metrics.txt \\\n",
    "#    -O /home/jupyter-user/sandbox/11_somatic_twicefiltered.vcf.gz"
   ]
  },
  {
   "cell_type": "markdown",
   "metadata": {
    "colab_type": "text",
    "id": "aCDMaLSsl6g0"
   },
   "source": [
    "\n",
    "This produces a VCF, index, and summary table. For our small data, this step does not filter any sites with the orientation_bias filter and this can be seen in the Num_Artifact_Mode_Filtered column of `11_somatic_twicefiltered.vcf.gz.summary`. \n",
    "\n",
    "\n",
    "We are skipping the older version of the code, but if you want to practice the generation of artifact priors, the following two code cells provide a demonstration on how to set up the code.\n"
   ]
  },
  {
   "cell_type": "code",
   "execution_count": null,
   "metadata": {},
   "outputs": [],
   "source": [
    "!gatk CollectF1R2Counts  \\\n",
    "     -R /home/jupyter-user/ref/Homo_sapiens_assembly38.fasta  \\\n",
    "     -I /home/jupyter-user/bams/tumor.bam \\\n",
    "     -alt-table tumor-alt.tsv \\\n",
    "     -ref-hist tumor-ref.metrics \\\n",
    "     -alt-hist tumor-alt.metrics"
   ]
  },
  {
   "cell_type": "code",
   "execution_count": null,
   "metadata": {},
   "outputs": [],
   "source": [
    "!gatk LearnReadOrientationModel \\\n",
    "   -alt-table tumor-alt.tsv \\\n",
    "   -ref-hist tumor-ref.metrics \\\n",
    "   -alt-hist tumor-alt.metrics \\\n",
    "   -O tumor-artifact-prior.tsv"
   ]
  },
  {
   "cell_type": "code",
   "execution_count": null,
   "metadata": {},
   "outputs": [],
   "source": [
    "!head -n50 tumor-ref.metrics | awk '{print $1 \"\\t\" $2 \"\\t\" $3 \"\\t\" $4}'"
   ]
  },
  {
   "cell_type": "code",
   "execution_count": null,
   "metadata": {},
   "outputs": [],
   "source": [
    "!head tumor-artifact-prior.tsv "
   ]
  },
  {
   "cell_type": "markdown",
   "metadata": {
    "colab_type": "text",
    "id": "HxkeBH8Us1S9"
   },
   "source": [
    "\n",
    "\n",
    "# REVIEW CALLS WITH IGV\n",
    "\n",
    "Deriving a good somatic callset involves comparing callsets from different callers, manually reviewing passing and filtered calls and, if necessary, additional filtering. Manual review extends from deciphering call record annotations to the nitty-gritty of reviewing read alignments using a visualizer. \n",
    "\n",
    "\n"
   ]
  },
  {
   "cell_type": "markdown",
   "metadata": {
    "colab_type": "text",
    "id": "M0qm1xfhTW5Q"
   },
   "source": [
    "## Setup IGV to review somatic calls\n",
    "\n",
    "\n",
    "How do we account for variant calls based on the read data? Remember Mutect2 reassembles reads just like HaplotypeCaller, so the clean alignments will not necessarily reflect the calls. We must examine the BAMOUT that Mutect2's graph-assembly produces. We already generated this BAMOUT in section 1.1 (`sandbox/2_tumor_normal_m2.bam`).  We are going to copy it into our bucket for loading into the IGV.\n",
    "\n",
    "\n",
    "### Install or upgrade IGV Deskop to ensure you have a recent version. \n",
    "\n",
    "IGV Desktop can be obtained from http://www.broadinstitute.org/software/igv/download"
   ]
  },
  {
   "cell_type": "markdown",
   "metadata": {
    "colab_type": "text",
    "id": "lsY5Wf1uSuLj"
   },
   "source": [
    "### Copy the result of our analysis into the workspace bucket so we can load it into IGV.\n",
    "\n",
    "We use the google cloud utilities (`gsutil`) command for copy (`cp`) to put our sandbox files into the bucket wher we can load them into the IGV.  The other files (`bams`, `resources`,`mutect2_precomputed`) were already made available  through our gatk-tutorials bucket so we don't have to copy those again.  "
   ]
  },
  {
   "cell_type": "code",
   "execution_count": null,
   "metadata": {
    "colab": {},
    "colab_type": "code",
    "id": "oxD6X2R_SuLj",
    "outputId": "58eae4c0-b092-4e18-ea99-fe7f990839bd",
    "scrolled": false
   },
   "outputs": [],
   "source": [
    "!gsutil cp /home/jupyter-user/sandbox/2_tumor_normal_m2.bam $bucket\n",
    "!gsutil cp /home/jupyter-user/sandbox/2_tumor_normal_m2.bai $bucket"
   ]
  },
  {
   "cell_type": "markdown",
   "metadata": {
    "colab_type": "text",
    "id": "Y5B-qEhVSuLm"
   },
   "source": [
    "List the directory and make note of the full bucket name with the 2_tunor_normal_m2.bam file in it."
   ]
  },
  {
   "cell_type": "code",
   "execution_count": null,
   "metadata": {
    "colab": {},
    "colab_type": "code",
    "id": "1X9nB_bQSuLn",
    "outputId": "17b07307-8aea-4d62-87a5-c1f956e2b6a7"
   },
   "outputs": [],
   "source": [
    "!gsutil ls $bucket"
   ]
  },
  {
   "cell_type": "markdown",
   "metadata": {
    "colab_type": "text",
    "id": "D_484a16SuLp"
   },
   "source": [
    "### Start IGV"
   ]
  },
  {
   "cell_type": "markdown",
   "metadata": {
    "colab_type": "text",
    "id": "X2VXboc9tI7Y"
   },
   "source": [
    "### In IGV, load Human (hg38) as the reference\n",
    "\n",
    "<img src=\"https://storage.googleapis.com/gatk-tutorials/workshop_1903/3-somatic/images/IGV.changegenome.png\" width=\"400\"/>\n",
    "\n",
    "\n"
   ]
  },
  {
   "cell_type": "markdown",
   "metadata": {
    "colab_type": "text",
    "id": "mwgoXkkMSuLr"
   },
   "source": [
    "### In IGV, go to `View`-->`Preferences` and check the box to enable `Google Access`\n",
    "\n",
    "<img src=\"https://storage.googleapis.com/gatk-tutorials/workshop_1903/3-somatic/images/IGV.Changepreferences.png\" width=\"400\"/>"
   ]
  },
  {
   "cell_type": "markdown",
   "metadata": {
    "colab_type": "text",
    "id": "Zo7AZx_BSuLr"
   },
   "source": [
    "### In IGV, go to `File`-->`Load from URL` then load these files in order: \n",
    "\n",
    "\n",
    "\n",
    "```\n",
    "#These three files are coming from the workshop bucket, no changes need to me made to the path,.\n",
    "\n",
    "A. gs://gatk-tutorials/workshop_1903/3-somatic/resources/chr17_m2pon.vcf.gz\n",
    "B. gs://gatk-tutorials/workshop_1903/3-somatic/resources/chr17_af-only-gnomad_grch38.vcf.gz\n",
    "C. gs://gatk-tutorials/workshop_1903/3-somatic/mutect2_precomputed/9_somatic_oncefiltered.vcf.gz\n",
    "\n",
    "\n",
    "\n",
    "#Replace the following path with your bucket name in front of \"/2_tumor_normal_m2.bam\"\n",
    "\n",
    "D. gs://fc-your-bucket-name/2_tumor_normal_m2.bam\n",
    "\n",
    "\n",
    "#These two files are coming from the workshop bucket, no changes need to me made to the path,\n",
    "\n",
    "E. gs://gatk-tutorials/workshop_1903/3-somatic/bams/tumor.bam\n",
    "F. gs://gatk-tutorials/workshop_1903/3-somatic/bams/normal.bam\n",
    "\n",
    "```\n",
    "\n",
    "\n",
    "<img src=\"https://storage.googleapis.com/gatk-tutorials/workshop_1903/3-somatic/images/IGV.loadgsfiles.png\" width=\"600\"/>\n",
    "\n",
    "\n"
   ]
  },
  {
   "cell_type": "markdown",
   "metadata": {
    "colab_type": "text",
    "id": "r4CAOJnFSuLs"
   },
   "source": [
    "### Navigate to the location of the genome where variants were called\n",
    "\n",
    "With the exception of the somatic callset, the regions the data cover are again in the `chr17plus.interval_list`. Navigate IGV to the **TP53** locus at **chr17:7,666,402-7,689,550.** \n",
    "\n",
    "\n",
    "<img src=\"https://storage.googleapis.com/gatk-tutorials/workshop_1903/3-somatic/images/IGV.navigate.png\" width=\"600\"/>\n",
    "\n",
    "* Right-click on track \\[B] and collapse the view.\n",
    "* Zoom into the somatic call in \\[C], **chr17:7,673,333-7,675,077**\n",
    "* Hover over or click on the gray call in track \\[C] to view annotations.\n",
    "* Scroll through the data and notice the coverage for the samples. \n",
    "\n",
    "<img src=\"https://storage.googleapis.com/gatk-tutorials/workshop_1903/3-somatic/images/IGV.hover.png\" width=\"600\"/>\n"
   ]
  },
  {
   "cell_type": "markdown",
   "metadata": {
    "colab_type": "text",
    "id": "xXQh3IcfuJj-"
   },
   "source": [
    "\n",
    "####  ➤ We see a C→T variant light up in red for the tumor but not the normal. What do you think is happening in D, 2_tumor_normal_m2.bam? \t\n",
    "\n"
   ]
  },
  {
   "cell_type": "markdown",
   "metadata": {
    "colab_type": "text",
    "id": "LuSYcZ9dUwCH"
   },
   "source": [
    "####  ➤ What does the coverage tell you?\n",
    "\t\n"
   ]
  },
  {
   "cell_type": "markdown",
   "metadata": {
    "colab_type": "text",
    "id": "QOsj4721U-C0"
   },
   "source": [
    "If these alignments seem hard to decipher, it is because we need to tweak some settings.\n",
    "\n",
    "* Make room to focus on track \\[D]. Shift+select on the left panels for tracks \\[E], \\[F] and their coverages.\n",
    "\n",
    "* Right-click and `Remove Tracks` to remove the tumor and normal BAMs.\n",
    "\n",
    "* Go to `View>Preferences>Alignments`. Uncheck `Downsample reads`.\n",
    "* Right-click on the alignments track and\n",
    "      * Group by sample  \n",
    "      * Color alignments by tag: HC\n",
    "      * Sort by base\n",
    "* Scroll and click on a read in each group to determine which group belongs to which sample. \n",
    "\n"
   ]
  },
  {
   "cell_type": "markdown",
   "metadata": {
    "colab_type": "text",
    "id": "nWlbDj-rVA-s"
   },
   "source": [
    "#### ➤ What are the three grouped tracks for the bamout? What do the colors indicate? What differentiates the pastel versus gray reads? \n",
    "\n"
   ]
  },
  {
   "cell_type": "markdown",
   "metadata": {
    "colab_type": "text",
    "id": "D25viKwBVCTb"
   },
   "source": [
    "#### ➤ How do you feel about this somatic call? \n",
    "\n",
    "---\n",
    "\n"
   ]
  },
  {
   "cell_type": "markdown",
   "metadata": {
    "colab_type": "text",
    "id": "cV1aFLuQtmtv"
   },
   "source": [
    "\n",
    "##  Review filtered indels to study the logic behind different filters\n",
    "\n",
    "Explore a few insertion and deletion sites in IGV and consider the evidence that supports the filtering decisions. \n",
    "\n",
    "| CHROM | POS | REF | ALT | FILTER |\n",
    "| --- | --- | --- | --- | --- |\n",
    "| chr17 | 7,221,420| CACTGCCCTAGGTCAGGA | C | artifact_in_normal;contamination;panel_of_normals;str_contraction |\n",
    "| chr17 | 19,748,387| G | GA | contamination;str_contraction;t_lod |\n",
    "| chr17 | 50,124,771 | GCACACACACACACACA | G,GCACA,GCACACA | artifact_in_normal;clustered_events;germline_risk;multiallelic;panel_of_normals\n",
    "\n",
    "\n"
   ]
  },
  {
   "cell_type": "markdown",
   "metadata": {
    "colab_type": "text",
    "id": "_dfsMfvJOW_W"
   },
   "source": [
    "Here are a few more filtered indel calls to explore.\n",
    "\n",
    "\n",
    "| CHROM | POS | REF | ALT | FILTER |\n",
    "| --- | --- | --- | --- | --- |\n",
    "| chr17 | 26,982,033 | G | GC | artifact_in_normal;bad_haplotype;clustered_events |\n",
    "| chr17 | 35,671,734 | CTT | C,CT,CTTT | artifact_in_normal;multiallelic;panel_of_normals |\n",
    "| chr17 | 47,157,394 | CAA | C,CAAA | artifact_in_normal;germline_risk;panel_of_normals |\n",
    "| chr17 | 68,907,890 | GA | G,GAA | artifact_in_normal;base_quality;germline_risk;panel_of_normals;str_contraction |\n",
    "| chr17 | 69,182,632 | C | CA | artifact_in_normal;contamination;str_contraction;t_lod |\n",
    "\n",
    "\n"
   ]
  },
  {
   "cell_type": "markdown",
   "metadata": {
    "colab_type": "text",
    "id": "nvHXxt0ehgjC"
   },
   "source": [
    "\n",
    "# ANNOTATE MUTATIONS WITH FUNCOTATOR\n",
    "\n",
    "Another approach to filtering mutation calls is by the significance of their functional impact. For example, a stop codon in the middle of a protein coding region or a missense mutation that changes how a protein functions is more significant than a silent mutation or a mutation in the middle of an intron. \n",
    "\n",
    "To gauge functional impact, we must know which regions of the genome code for protein sequence and which correspond to elements important to gene expression. Transcript annotation resources such as [GENCODE](https://www.gencodegenes.org/) capture such information in a standardized format [](General Transfer Format (GTF)](https://www.gencodegenes.org/pages/data_format.html).   \n",
    "\n",
    "GATK4 Funcotator annotates variant alleles with information from any number of annotation resources. The annotation resources must be organized in a particular way. You can download prepared Funcotator resource bundles from `gs://broad-public-datasets/funcotator/` or use GATK4 `FuncotatorDataSourceDownloader` to download the latest data sources directly from your GATK4 install. For this tutorial, we have specially prepared a small annotation resource. \n",
    "\n"
   ]
  },
  {
   "cell_type": "markdown",
   "metadata": {
    "colab_type": "text",
    "id": "0Lz1O4XNwHU2"
   },
   "source": [
    "Annotate the `9_somatic_oncefiltered.vcf.gz` mutation callset with the resource.\n",
    "\n",
    "```\n",
    "!gatk Funcotator \\\n",
    "    --data-sources-path /home/jupyter-user/resources/funcotator_dataSources_GATK_Workshop_20181205 \\\n",
    "    --ref-version hg38 \\\n",
    "    -R /home/jupyter-user/ref/Homo_sapiens_assembly38.fasta \\\n",
    "    -V /home/jupyter-user/mutect2_precomputed/9_somatic_oncefiltered.vcf.gz \\\n",
    "    -O /home/jupyter-user/sandbox/12_somatic_oncefiltered_funcotate.vcf.gz \\\n",
    "    --output-file-format VCF\n",
    "```\n"
   ]
  },
  {
   "cell_type": "code",
   "execution_count": null,
   "metadata": {
    "colab": {},
    "colab_type": "code",
    "id": "MAkXgEMnVc1x",
    "outputId": "7aefd1c5-16d5-4568-9f3e-09a2f7be37c6",
    "scrolled": false
   },
   "outputs": [],
   "source": [
    "!gatk Funcotator \\\n",
    "    --data-sources-path /home/jupyter-user/resources/funcotator_dataSources_GATK_Workshop_20181205/ \\\n",
    "    --ref-version hg38 \\\n",
    "    -R /home/jupyter-user/ref/Homo_sapiens_assembly38.fasta \\\n",
    "    -V /home/jupyter-user/mutect2_precomputed/9_somatic_oncefiltered.vcf.gz \\\n",
    "    -O /home/jupyter-user/sandbox/12_somatic_oncefiltered_funcotate.vcf.gz \\\n",
    "    --output-file-format VCF"
   ]
  },
  {
   "cell_type": "markdown",
   "metadata": {
    "colab_type": "text",
    "id": "TXav1Vq_wLe0"
   },
   "source": [
    "\n",
    "\n",
    "This produces a VCF callset with annotations. If needed, Funcotator can instead write results in historic [Mutation Annotation Format (MAF)](http://software.broadinstitute.org/software/igv/MutationAnnotationFormat) given `–-output-file-format MAF`.\n",
    "\n"
   ]
  },
  {
   "cell_type": "markdown",
   "metadata": {
    "colab_type": "text",
    "id": "GSPVve4WT1Wx"
   },
   "source": [
    "\n",
    "**➤ Examine the annotations for the TP53 mutation that we viewed earlier in IGV, at chr17:7674220.**\n",
    "\n"
   ]
  },
  {
   "cell_type": "code",
   "execution_count": null,
   "metadata": {
    "colab": {},
    "colab_type": "code",
    "id": "dP4Q9T3kSuLz",
    "outputId": "fe4d8a3b-d799-449e-ad70-cf99921bd9c1",
    "scrolled": false
   },
   "outputs": [],
   "source": [
    "!zgrep chr 17 /home/jupyter-user/sandbox/12_somatic_oncefiltered_funcotate.vcf.gz | zgrep 7674220"
   ]
  },
  {
   "cell_type": "markdown",
   "metadata": {
    "colab_type": "text",
    "id": "RN3-Yl0wTF3Y"
   },
   "source": [
    "<img src=\"https://storage.googleapis.com/gatk-tutorials/workshop_1903/3-somatic/images/bluebox4.png\" width=\"900\"/>\n",
    "\n",
    "We see an arginine to glutamine missense mutation. In our 124 mutation records, 21 are annotated with MISSENSE, and of these, ten PASS filters. \n"
   ]
  }
 ],
 "metadata": {
  "colab": {
   "collapsed_sections": [],
   "name": "032119_Mutect2_Arhodes.ipynb",
   "provenance": [],
   "toc_visible": true,
   "version": "0.3.2"
  },
  "kernelspec": {
   "display_name": "Python 3",
   "language": "python",
   "name": "python3"
  },
  "language_info": {
   "codemirror_mode": {
    "name": "ipython",
    "version": 3
   },
   "file_extension": ".py",
   "mimetype": "text/x-python",
   "name": "python",
   "nbconvert_exporter": "python",
   "pygments_lexer": "ipython3",
   "version": "3.6.8"
  },
  "toc": {
   "base_numbering": 1,
   "nav_menu": {},
   "number_sections": true,
   "sideBar": true,
   "skip_h1_title": false,
   "title_cell": "Table of Contents",
   "title_sidebar": "Contents",
   "toc_cell": false,
   "toc_position": {},
   "toc_section_display": true,
   "toc_window_display": false
  }
 },
 "nbformat": 4,
 "nbformat_minor": 1
}
