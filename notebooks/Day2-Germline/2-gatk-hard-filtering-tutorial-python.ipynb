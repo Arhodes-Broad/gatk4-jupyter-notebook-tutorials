{
 "cells": [
  {
   "cell_type": "markdown",
   "metadata": {},
   "source": [
    "# GATK Tutorial | Hard Filtering | March 2019"
   ]
  },
  {
   "cell_type": "markdown",
   "metadata": {},
   "source": [
    "\n",
    "This GATK tutorial corresponds to a section of the GATK Workshop _2b. Germline Hard Filtering Tutorial_ worksheet. The goal is to become familiar with germline variant annotations. The notebook illustrates the following steps. \n",
    "\n",
    "- Use GATK to stratify a variant callset against a truthset\n",
    "- Use R's ggplot2 package to plot the distribution of various annotation values\n",
    "- Hard-filter based on annotation thresholds and calculate concordance metrics  \n",
    "\n",
    "### First, make sure the notebook is using a Python 3 kernel in the top right corner.\n",
    "A kernel is a _computational engine_ that executes the code in the notebook. We use Python 3 in this notebook to execute GATK commands using _Python Magic_ (`!`). Later we will switch to another notebook to do some plotting in R.\n",
    "\n",
    "### How to run this notebook:\n",
    "- **Click to select a gray cell and then pressing SHIFT+ENTER to run the cell.**\n",
    "\n",
    "- **Write results to `/home/jupyter-user/`. To access the directory, click on the upper-left jupyter icon.**\n",
    "\n",
    "### Enable reading Google bucket data "
   ]
  },
  {
   "cell_type": "code",
   "execution_count": null,
   "metadata": {},
   "outputs": [],
   "source": [
    "# Check if data is accessible. The command should list several gs:// URLs.\n",
    "! gsutil ls gs://gatk-tutorials/workshop_1702/variant_discovery/data/resources/\n",
    "! gsutil ls gs://gatk-tutorials/workshop_1702/variant_discovery/data/intervals/motherHighconf.bed\n",
    "! gsutil ls gs://gatk-tutorials/workshop_1702/variant_discovery/data/inputVcfs/"
   ]
  },
  {
   "cell_type": "code",
   "execution_count": null,
   "metadata": {},
   "outputs": [],
   "source": [
    "# If you do not see gs:// URLs listed above, run this cell to install Google Cloud Storage. \n",
    "# Afterwards, restart the kernel with Kernel > Restart.\n",
    "#! pip install google-cloud-storage"
   ]
  },
  {
   "cell_type": "markdown",
   "metadata": {},
   "source": [
    "---\n",
    "## 1. Subset variants to SNPs of a single sample with SelectVariants"
   ]
  },
  {
   "cell_type": "markdown",
   "metadata": {},
   "source": [
    "Subset the trio callset to just the SNPs of the mother (sample NA12878). Make sure to remove sites for which the sample genotype is homozygous-reference and remove unused alleles, including spanning deletions. \n",
    "\n",
    "> The tool recalculates depth of coverage (DP) per site as well as the allele count in genotypes for each ALT allele (AC), allele frequency for each ALT allele (AF), and  total number of alleles in called genotypes (AN), to reflect only the subset sample(s)."
   ]
  },
  {
   "cell_type": "code",
   "execution_count": 1,
   "metadata": {
    "scrolled": true
   },
   "outputs": [
    {
     "name": "stdout",
     "output_type": "stream",
     "text": [
      "Using GATK jar /etc/gatk-4.1.0.0/gatk-package-4.1.0.0-local.jar\n",
      "Running:\n",
      "    java -Dsamjdk.use_async_io_read_samtools=false -Dsamjdk.use_async_io_write_samtools=true -Dsamjdk.use_async_io_write_tribble=false -Dsamjdk.compression_level=2 -jar /etc/gatk-4.1.0.0/gatk-package-4.1.0.0-local.jar SelectVariants -V gs://gatk-tutorials/workshop_1702/variant_discovery/data/inputVcfs/trio.vcf.gz -sn NA12878 -select-type SNP --exclude-non-variants --remove-unused-alternates -O /home/jupyter-user/motherSNP.vcf.gz\n",
      "05:34:16.167 INFO  NativeLibraryLoader - Loading libgkl_compression.so from jar:file:/etc/gatk-4.1.0.0/gatk-package-4.1.0.0-local.jar!/com/intel/gkl/native/libgkl_compression.so\n",
      "05:34:16.395 INFO  SelectVariants - ------------------------------------------------------------\n",
      "05:34:16.396 INFO  SelectVariants - The Genome Analysis Toolkit (GATK) v4.1.0.0\n",
      "05:34:16.396 INFO  SelectVariants - For support and documentation go to https://software.broadinstitute.org/gatk/\n",
      "05:34:16.396 INFO  SelectVariants - Executing as jupyter-user@saturn-f5de5fcd-6bbf-4424-8ae2-0ef73d2e5490-m on Linux v4.9.0-8-amd64 amd64\n",
      "05:34:16.396 INFO  SelectVariants - Java runtime: Java HotSpot(TM) 64-Bit Server VM v1.8.0_201-b09\n",
      "05:34:16.397 INFO  SelectVariants - Start Date/Time: March 21, 2019 5:34:16 AM UTC\n",
      "05:34:16.397 INFO  SelectVariants - ------------------------------------------------------------\n",
      "05:34:16.397 INFO  SelectVariants - ------------------------------------------------------------\n",
      "05:34:16.398 INFO  SelectVariants - HTSJDK Version: 2.18.2\n",
      "05:34:16.398 INFO  SelectVariants - Picard Version: 2.18.25\n",
      "05:34:16.399 INFO  SelectVariants - HTSJDK Defaults.COMPRESSION_LEVEL : 2\n",
      "05:34:16.399 INFO  SelectVariants - HTSJDK Defaults.USE_ASYNC_IO_READ_FOR_SAMTOOLS : false\n",
      "05:34:16.399 INFO  SelectVariants - HTSJDK Defaults.USE_ASYNC_IO_WRITE_FOR_SAMTOOLS : true\n",
      "05:34:16.399 INFO  SelectVariants - HTSJDK Defaults.USE_ASYNC_IO_WRITE_FOR_TRIBBLE : false\n",
      "05:34:16.399 INFO  SelectVariants - Deflater: IntelDeflater\n",
      "05:34:16.400 INFO  SelectVariants - Inflater: IntelInflater\n",
      "05:34:16.400 INFO  SelectVariants - GCS max retries/reopens: 20\n",
      "05:34:16.400 INFO  SelectVariants - Requester pays: disabled\n",
      "05:34:16.400 INFO  SelectVariants - Initializing engine\n",
      "05:34:21.549 INFO  FeatureManager - Using codec VCFCodec to read file gs://gatk-tutorials/workshop_1702/variant_discovery/data/inputVcfs/trio.vcf.gz\n",
      "05:34:24.616 INFO  SelectVariants - Done initializing engine\n",
      "05:34:24.683 INFO  SelectVariants - Including sample 'NA12878'\n",
      "05:34:24.709 INFO  ProgressMeter - Starting traversal\n",
      "05:34:24.710 INFO  ProgressMeter -        Current Locus  Elapsed Minutes    Variants Processed  Variants/Minute\n",
      "05:34:34.337 INFO  ProgressMeter -          20:62910954              0.2                122091         760928.6\n",
      "05:34:34.338 INFO  ProgressMeter - Traversal complete. Processed 122091 total variants in 0.2 minutes.\n",
      "05:34:34.354 INFO  SelectVariants - Shutting down engine\n",
      "[March 21, 2019 5:34:34 AM UTC] org.broadinstitute.hellbender.tools.walkers.variantutils.SelectVariants done. Elapsed time: 0.30 minutes.\n",
      "Runtime.totalMemory()=935854080\n"
     ]
    }
   ],
   "source": [
    "! gatk SelectVariants \\\n",
    "-V gs://gatk-tutorials/workshop_1702/variant_discovery/data/inputVcfs/trio.vcf.gz \\\n",
    "-sn NA12878 \\\n",
    "-select-type SNP \\\n",
    "--exclude-non-variants \\\n",
    "--remove-unused-alternates \\\n",
    "-O /home/jupyter-user/motherSNP.vcf.gz"
   ]
  },
  {
   "cell_type": "code",
   "execution_count": 2,
   "metadata": {
    "collapsed": true
   },
   "outputs": [
    {
     "name": "stdout",
     "output_type": "stream",
     "text": [
      "#CHROM\tPOS\tID\tREF\tALT\tQUAL\tFILTER\tINFO\tFORMAT\tNA12878\r\n",
      "20\t61098\t.\tC\tT\t465.13\t.\tAC=1;AF=0.500;AN=2;BaseQRankSum=0.516;ClippingRankSum=0.00;DP=44;ExcessHet=3.0103;FS=0.000;MQ=59.48;MQRankSum=0.803;QD=10.57;ReadPosRankSum=1.54;SOR=0.603\tGT:AD:DP:GQ:PL\t0/1:28,16:44:99:496,0,938\r\n",
      "20\t61795\t.\tG\tT\t2034.16\t.\tAC=1;AF=0.500;AN=2;BaseQRankSum=-6.330e-01;ClippingRankSum=0.00;DP=60;ExcessHet=3.9794;FS=0.000;MQ=59.81;MQRankSum=0.00;QD=17.09;ReadPosRankSum=1.23;SOR=0.723\tGT:AD:DP:GQ:PL\t0/1:30,30:60:99:1003,0,1027\r\n",
      "20\t63244\t.\tA\tC\t923.13\t.\tAC=1;AF=0.500;AN=2;BaseQRankSum=0.637;ClippingRankSum=0.00;DP=57;ExcessHet=3.0103;FS=5.470;MQ=59.60;MQRankSum=-1.019e+00;QD=16.20;ReadPosRankSum=0.404;SOR=1.528\tGT:AD:DP:GQ:PL\t0/1:30,27:57:99:954,0,1064\r\n",
      "20\t63799\t.\tC\tT\t1766.16\t.\tAC=1;AF=0.500;AN=2;BaseQRankSum=-6.530e-01;ClippingRankSum=0.00;DP=45;ExcessHet=3.9794;FS=0.000;MQ=59.78;MQRankSum=1.22;QD=16.98;ReadPosRankSum=-1.075e+00;SOR=0.709\tGT:AD:DP:GQ:PL\t0/1:19,26:45:99:953,0,670\r\n",
      "20\t65900\t.\tG\tA\t5817.13\t.\tAC=1;AF=0.500;AN=2;BaseQRankSum=0.503;ClippingRankSum=0.00;DP=64;ExcessHet=3.0103;FS=4.289;MQ=59.65;MQRankSum=0.00;QD=31.61;ReadPosRankSum=0.732;SOR=1.032\tGT:AD:DP:GQ:PL\t0/1:41,23:64:99:809,0,1596\r\n",
      "20\t66370\t.\tG\tA\t5611.13\t.\tAC=1;AF=0.500;AN=2;BaseQRankSum=1.26;ClippingRankSum=0.00;DP=52;ExcessHet=3.0103;FS=6.196;MQ=60.00;MQRankSum=0.00;QD=33.01;ReadPosRankSum=-9.100e-02;SOR=0.647\tGT:AD:DP:GQ:PL\t0/1:31,21:52:99:716,0,1103\r\n",
      "20\t66720\t.\tC\tA\t2204.16\t.\tAC=1;AF=0.500;AN=2;BaseQRankSum=0.663;ClippingRankSum=0.00;DP=59;ExcessHet=3.9794;FS=12.193;MQ=60.00;MQRankSum=0.00;QD=15.86;ReadPosRankSum=-1.250e-01;SOR=1.219\tGT:AD:DP:GQ:PL\t0/1:31,28:59:99:948,0,1123\r\n",
      "20\t68749\t.\tT\tC\t4285.16\t.\tAC=2;AF=1.00;AN=2;BaseQRankSum=0.613;ClippingRankSum=0.00;DP=52;ExcessHet=3.9794;FS=2.137;MQ=59.86;MQRankSum=0.00;QD=26.29;ReadPosRankSum=1.24;SOR=0.924\tGT:AD:DP:GQ:PL\t1/1:0,52:52:99:2214,157,0\r\n",
      "20\t70980\t.\tG\tA\t672.13\t.\tAC=1;AF=0.500;AN=2;BaseQRankSum=-1.800e-01;ClippingRankSum=0.00;DP=53;ExcessHet=3.0103;FS=1.042;MQ=59.65;MQRankSum=-1.196e+00;QD=12.68;ReadPosRankSum=0.444;SOR=0.848\tGT:AD:DP:GQ:PL\t0/1:32,21:53:99:703,0,1198\r\n",
      "grep: write error: Broken pipe\r\n",
      "\r\n",
      "gzip: stdout: Broken pipe\r\n"
     ]
    }
   ],
   "source": [
    "# Peruse the resulting file \n",
    "! zcat /home/jupyter-user/motherSNP.vcf.gz | grep -v '##' | head"
   ]
  },
  {
   "cell_type": "markdown",
   "metadata": {},
   "source": [
    "---\n",
    "## 2. Annotate intersecting true positives with VariantAnnotator"
   ]
  },
  {
   "cell_type": "markdown",
   "metadata": {},
   "source": [
    "We use VariantAnnotator to annotate which variants in our callset are also present in the truthset (GIAB), which are considered true positives. Variants not present in the truthset are considered false positives. Here we produce a callset where variants that are present in the truthset are annotated with the giab.callsets annotation plus a value indicating how many of the callsets used to develop the truthset agreed with that call."
   ]
  },
  {
   "cell_type": "code",
   "execution_count": null,
   "metadata": {},
   "outputs": [],
   "source": [
    "! gatk VariantAnnotator \\\n",
    "-V /home/jupyter-user/motherSNP.vcf.gz \\\n",
    "--resource:giab gs://gatk-tutorials/workshop_1702/variant_discovery/data/resources/motherGIABsnps.vcf.gz \\\n",
    "-E giab.callsets \\\n",
    "-O /home/jupyter-user/motherSNP.giab.vcf.gz"
   ]
  },
  {
   "cell_type": "code",
   "execution_count": null,
   "metadata": {},
   "outputs": [],
   "source": [
    "# Peruse the resulting file \n",
    "! zcat /home/jupyter-user/motherSNP.giab.vcf.gz | grep -v '##' | head"
   ]
  },
  {
   "cell_type": "markdown",
   "metadata": {},
   "source": [
    "---\n",
    "## 3. Tabulate annotations of interest with VariantsToTable"
   ]
  },
  {
   "cell_type": "markdown",
   "metadata": {},
   "source": [
    "Convert the information from the callset into a tab delimited table using VariantsToTable, so that we can parse it easily in R. The tool parameters differentiate INFO/site-level fields fields (`-F`) and FORMAT/sample-level fields genotype fields (`-GF`). This step produces a table where each line represents a variant record from the VCF, and each column represents an annotation we have specified. Wherever the requested annotations are not present, e.g. RankSum annotations at homozygous sites, the value will be replaced by NA. "
   ]
  },
  {
   "cell_type": "code",
   "execution_count": null,
   "metadata": {},
   "outputs": [],
   "source": [
    "! gatk VariantsToTable \\\n",
    "-V /home/jupyter-user/motherSNP.giab.vcf.gz \\\n",
    "-F CHROM -F POS -F QUAL \\\n",
    "-F BaseQRankSum -F MQRankSum -F ReadPosRankSum \\\n",
    "-F DP -F FS -F MQ -F QD -F SOR \\\n",
    "-F giab.callsets \\\n",
    "-GF GQ \\\n",
    "-O /home/jupyter-user/motherSNP.giab.txt"
   ]
  },
  {
   "cell_type": "code",
   "execution_count": null,
   "metadata": {},
   "outputs": [],
   "source": [
    "# Peruse the resulting file\n",
    "! cat /home/jupyter-user/motherSNP.giab.txt | head -n300"
   ]
  },
  {
   "cell_type": "code",
   "execution_count": null,
   "metadata": {},
   "outputs": [],
   "source": [
    "# Focus in on a few columns\n",
    "! cat /home/jupyter-user/motherSNP.giab.txt | cut -f1,2,7,12 | head -n300"
   ]
  },
  {
   "cell_type": "markdown",
   "metadata": {},
   "source": [
    "\n",
    "---\n",
    "## 4. Make density and scatter plots in R and determine filtering thresholds"
   ]
  },
  {
   "cell_type": "markdown",
   "metadata": {},
   "source": [
    "<span style=\"color:red\">Load the R notebook now to run the plots for this next section. Continue below only after you've finished with the other notebook.</span>\n"
   ]
  },
  {
   "cell_type": "markdown",
   "metadata": {},
   "source": [
    "---\n",
    "## 5. Apply filters with VariantFiltration and evaluate results"
   ]
  },
  {
   "cell_type": "markdown",
   "metadata": {},
   "source": [
    "### A. Filter on QUAL and tabulate baseline concordance\n",
    "\n",
    "Based on the plots we generated, we're going to apply some filters to weed out false positives. To illustrate how VariantFiltration works, and to establish baseline performance, we first filter on QUAL < 30. By default, GATK GenotypeGVCFs filters out variants with QUAL < 10. This step produces a VCF with all the original variants; those that failed the filter are annotated with the filter name in the FILTER column.\n"
   ]
  },
  {
   "cell_type": "code",
   "execution_count": null,
   "metadata": {},
   "outputs": [],
   "source": [
    "# Filter callset on one annotation, QUAL < 30\n",
    "! gatk VariantFiltration \\\n",
    "-R gs://gatk-tutorials/workshop_1702/variant_discovery/data/ref/ref.fasta \\\n",
    "-V /home/jupyter-user/motherSNP.vcf.gz \\\n",
    "--filter-expression \"QUAL < 30\" \\\n",
    "--filter-name \"qual30\" \\\n",
    "-O /home/jupyter-user/motherSNPqual30.vcf.gz"
   ]
  },
  {
   "cell_type": "code",
   "execution_count": null,
   "metadata": {},
   "outputs": [],
   "source": [
    "# Peruse the results; try adding 'grep \"qual30\"'\n",
    "! zcat /home/jupyter-user/motherSNPqual30.vcf.gz | grep -v '##' | head -n10"
   ]
  },
  {
   "cell_type": "code",
   "execution_count": null,
   "metadata": {},
   "outputs": [],
   "source": [
    "# Calculate concordance metrics using GATK4 BETA tool Concordance\n",
    "! gatk Concordance \\\n",
    "-eval /home/jupyter-user/motherSNPqual30.vcf.gz \\\n",
    "-truth gs://gatk-tutorials/workshop_1702/variant_discovery/data/resources/motherGIABsnps.vcf.gz \\\n",
    "-L gs://gatk-tutorials/workshop_1702/variant_discovery/data/intervals/motherHighconf.bed \\\n",
    "-S /home/jupyter-user/motherSNPqual30.txt"
   ]
  },
  {
   "cell_type": "code",
   "execution_count": null,
   "metadata": {},
   "outputs": [],
   "source": [
    "# View the results\n",
    "! echo \"\"\n",
    "! cat /home/jupyter-user/motherSNPqual30.txt"
   ]
  },
  {
   "cell_type": "markdown",
   "metadata": {},
   "source": [
    "### B. Filter on multiple annotations simultaneously using VariantFiltration"
   ]
  },
  {
   "cell_type": "markdown",
   "metadata": {},
   "source": [
    "To filter on multiple expressions, provide each in separate expression. For INFO level annotations, the parameter is  `-filter`, which should be immediately followed by the corresponding `–-filter-name` label. Here we show basic hard-filtering thresholds.\n",
    "\n",
    "- If an annotation is missing, VariantFiltration skips any judgement on that annotation. To conservatively fail such missing annotation sites, set the `--missing-values-evaluate-as-failing` flag. \n",
    "- To filter based on FORMAT level annotations, use `--genotype-filter-expression` and `--genotype-filter-name`. "
   ]
  },
  {
   "cell_type": "code",
   "execution_count": null,
   "metadata": {},
   "outputs": [],
   "source": [
    "# Filter callset on multiple annotations.\n",
    "# Iterate on thresholds to improve precision while maintaining high sensitivity.\n",
    "! gatk VariantFiltration \\\n",
    "-V /home/jupyter-user/motherSNP.vcf.gz \\\n",
    "-filter \"QD < 2.0\" --filter-name \"QD2\" \\\n",
    "-filter \"QUAL < 30.0\" --filter-name \"QUAL30\" \\\n",
    "-filter \"SOR > 3.0\" --filter-name \"SOR3\" \\\n",
    "-filter \"FS > 60.0\" --filter-name \"FS60\" \\\n",
    "-filter \"MQ < 40.0\" --filter-name \"MQ40\" \\\n",
    "-filter \"MQRankSum < -12.5\" --filter-name \"MQRankSum-12.5\" \\\n",
    "-filter \"ReadPosRankSum < -8.0\" --filter-name \"ReadPosRankSum-8\" \\\n",
    "-O /home/jupyter-user/motherSNPfilters.vcf.gz"
   ]
  },
  {
   "cell_type": "code",
   "execution_count": null,
   "metadata": {},
   "outputs": [],
   "source": [
    "# Sanity-check that filtering is as expected by examining filtered records and PASS records.\n",
    "! zcat /home/jupyter-user/motherSNPfilters.vcf.gz | grep -v '##' | grep -v 'PASS' | head -n20 | cut -f6-10\n",
    "! zcat /home/jupyter-user/motherSNPfilters.vcf.gz | grep -v '#' | grep 'PASS' | head | cut -f6-10"
   ]
  },
  {
   "cell_type": "code",
   "execution_count": null,
   "metadata": {},
   "outputs": [],
   "source": [
    "# Calculate concordance metrics using GATK4 BETA tool Concordance\n",
    "! gatk Concordance \\\n",
    "-eval /home/jupyter-user/motherSNPfilters.vcf.gz \\\n",
    "-truth gs://gatk-tutorials/workshop_1702/variant_discovery/data/resources/motherGIABsnps.vcf.gz \\\n",
    "-L gs://gatk-tutorials/workshop_1702/variant_discovery/data/intervals/motherHighconf.bed \\\n",
    "-S /home/jupyter-user/motherSNPfilters.txt\n",
    "        "
   ]
  },
  {
   "cell_type": "code",
   "execution_count": null,
   "metadata": {},
   "outputs": [],
   "source": [
    "#Now lets re-run concordance from just using QUAL filtering first\n",
    "!cat /home/jupyter-user/motherSNPqual30.txt"
   ]
  },
  {
   "cell_type": "code",
   "execution_count": null,
   "metadata": {},
   "outputs": [],
   "source": [
    "# View the results from filtering on multiple annotations\n",
    "! echo \"\"\n",
    "! cat /home/jupyter-user/motherSNPfilters.txt"
   ]
  },
  {
   "cell_type": "markdown",
   "metadata": {},
   "source": [
    "---\n",
    "\n",
    "We performed hard-filtering to learn about germline variant annotations. Remember that GATK recommends _Variant Quality Score Recalibration_ (VQSR) for germline variant callset filtering. For more complex variant filtering and annotation, see the Broad [Hail.is](https://hail.is/index.html) framework. "
   ]
  }
 ],
 "metadata": {
  "kernelspec": {
   "display_name": "Python 3",
   "language": "python",
   "name": "python3"
  },
  "language_info": {
   "codemirror_mode": {
    "name": "ipython",
    "version": 3
   },
   "file_extension": ".py",
   "mimetype": "text/x-python",
   "name": "python",
   "nbconvert_exporter": "python",
   "pygments_lexer": "ipython3",
   "version": "3.6.8"
  },
  "toc": {
   "base_numbering": 1,
   "nav_menu": {},
   "number_sections": true,
   "sideBar": true,
   "skip_h1_title": false,
   "title_cell": "Table of Contents",
   "title_sidebar": "Contents",
   "toc_cell": false,
   "toc_position": {
    "height": "calc(100% - 180px)",
    "left": "10px",
    "top": "150px",
    "width": "305px"
   },
   "toc_section_display": true,
   "toc_window_display": true
  }
 },
 "nbformat": 4,
 "nbformat_minor": 2
}
