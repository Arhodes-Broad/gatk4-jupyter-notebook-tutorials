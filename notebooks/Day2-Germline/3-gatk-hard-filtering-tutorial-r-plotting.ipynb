{
 "cells": [
  {
   "cell_type": "raw",
   "metadata": {},
   "source": []
  },
  {
   "cell_type": "markdown",
   "metadata": {},
   "source": [
    "# GATK Tutorial | Hard Filtering | March 2019\n",
    "\n",
    "This GATK tutorial corresponds to a section of the GATK Workshop _2b. Germline Hard Filtering Tutorial_ worksheet available. The goal is to become familiar with germline variant annotations. The notebook and its paired Python notebook illustrate the following steps. \n",
    "\n",
    "- Use GATK to stratify a variant callset against a truthset\n",
    "- Use R's ggplot2 package to plot the distribution of various annotation values\n",
    "- Hard-filter based on annotation thresholds and calculate concordance metrics  \n",
    "\n",
    "### First, make sure the notebook is using an R kernel in the top right corner.\n",
    "A kernel is a _computational engine_ that executes the code in the notebook. We use this notebook to make plots using R. \n",
    "\n",
    "### How to run this notebook:\n",
    "- **Click to select a gray cell and then pressing SHIFT+ENTER to run the cell.**\n",
    "\n",
    "- **Write results to `/home/jupyter-user/`. To access the directory, click on the upper-left jupyter icon.**\n",
    "\n",
    "### Enable reading Google bucket data "
   ]
  },
  {
   "cell_type": "code",
   "execution_count": null,
   "metadata": {},
   "outputs": [],
   "source": [
    "# Check if data is accessible. The command should list several gs:// URLs.\n",
    "system(\"gsutil ls gs://gatk-tutorials/workshop_1702/variant_discovery/data/resources/\", intern=TRUE)\n",
    "system(\"gsutil ls gs://gatk-tutorials/workshop_1702/variant_discovery/data/intervals/motherHighconf.bed\", intern=TRUE)\n",
    "system(\"gsutil ls gs://gatk-tutorials/workshop_1702/variant_discovery/data/inputVcfs/\", intern=TRUE)"
   ]
  },
  {
   "cell_type": "code",
   "execution_count": null,
   "metadata": {},
   "outputs": [],
   "source": [
    "# If you do not see gs:// URLs listed above, run this cell to install Google Cloud Storage. \n",
    "# Afterwards, restart the kernel with Kernel > Restart.\n",
    "#system(\"pip install google-cloud-storage\", intern=TRUE)"
   ]
  },
  {
   "cell_type": "markdown",
   "metadata": {},
   "source": [
    "---\n",
    "## 4. Make density and scatter plots in R and determine filtering thresholds"
   ]
  },
  {
   "cell_type": "markdown",
   "metadata": {},
   "source": [
    "<span style=\"color:red\">Make sure your kernal is set to R. Go to the menubar and select _Kernel > Change Kernel > R_.</span>\n",
    "\n",
    "Plotting the density of values for an annotation shows us to see the overall range and distribution of values observed in a callset. In combination with some basic knowledge of what the annotation represents and how it is calculated, this allows us to make a first estimation of value thresholds that segregate FPs from TPs. Plotting the scatter of values for two annotations, one against the other, additionally shows us what tradeoffs we make when setting a threshold on annotation values individually. "
   ]
  },
  {
   "cell_type": "markdown",
   "metadata": {},
   "source": [
    "\n",
    "\n",
    "### A. Load R libraries, plotting functions and data"
   ]
  },
  {
   "cell_type": "markdown",
   "metadata": {},
   "source": [
    "Don't worry if you don't know how to read the R script below. Also, you can ignore the red boxes that appear, e.g. stating `as ‘lib’ is unspecified`. "
   ]
  },
  {
   "cell_type": "code",
   "execution_count": null,
   "metadata": {},
   "outputs": [],
   "source": [
    "# plotting.R script loads ggplot and gridExtra libraries and defines functions to plot variant annotations \n",
    "\n",
    "library(ggplot2)\n",
    "install.packages(\"gridExtra\")\n",
    "library(gridExtra)\n",
    "\n",
    "get_legend<-function(myggplot){\n",
    "  tmp <- ggplot_gtable(ggplot_build(myggplot))\n",
    "  leg <- which(sapply(tmp$grobs, function(x) x$name) == \"guide-box\")\n",
    "  legend <- tmp$grobs[[leg]]\n",
    "  return(legend)\n",
    "}\n",
    "\n",
    "\n",
    "# Function for making density plots of a single annotation\n",
    "makeDensityPlot <- function(dataframe, xvar, split, xmin=min(dataframe[xvar], na.rm=TRUE), xmax=max(dataframe[xvar], na.rm=TRUE), alpha=0.5) {\n",
    "  \n",
    "  if(missing(split)) {\n",
    "    return(ggplot(data=dataframe, aes_string(x=xvar)) + xlim(xmin,xmax) + geom_density() )\n",
    "  }\n",
    "  else {\n",
    "    return(ggplot(data=dataframe, aes_string(x=xvar, fill=split)) + xlim(xmin,xmax) + geom_density(alpha=alpha) )\n",
    "  }\n",
    "}\n",
    "\n",
    "# Function for making scatter plots of two annotations\n",
    "makeScatterPlot <- function(dataframe, xvar, yvar, split, xmin=min(dataframe[xvar], na.rm=TRUE), xmax=max(dataframe[xvar], na.rm=TRUE), ymin=min(dataframe[yvar], na.rm=TRUE), ymax=max(dataframe[yvar], na.rm=TRUE), ptSize=1, alpha=0.6) {\n",
    "  if(missing(split)) {\n",
    "    return(ggplot(data=dataframe) + aes_string(x=xvar, y=yvar) + xlim(xmin,xmax) + ylim(ymin,ymax) + geom_point(size=ptSize, alpha=alpha) )\n",
    "  }\n",
    "  else {\n",
    "    return(ggplot(data=dataframe) + aes_string(x=xvar, y=yvar) + aes_string(color=split) + xlim(xmin,xmax) + ylim(ymin,ymax) + geom_point(size=ptSize, alpha=alpha) )\n",
    "  }\n",
    "}\n",
    "\n",
    "# Function for making scatter plots of two annotations with marginal density plots of each\n",
    "makeScatterPlotWithMarginalDensity <- function(dataframe, xvar, yvar, split, xmin=min(dataframe[xvar], na.rm=TRUE), xmax=max(dataframe[xvar], na.rm=TRUE), ymin=min(dataframe[yvar], na.rm=TRUE), ymax=max(dataframe[yvar], na.rm=TRUE), ptSize=1, ptAlpha=0.6, fillAlpha=0.5) {\n",
    "  empty <- ggplot()+geom_point(aes(1,1), colour=\"white\") +\n",
    "    theme(\n",
    "      plot.background = element_blank(), \n",
    "      panel.grid.major = element_blank(), \n",
    "      panel.grid.minor = element_blank(), \n",
    "      panel.border = element_blank(), \n",
    "      panel.background = element_blank(),\n",
    "      axis.title.x = element_blank(),\n",
    "      axis.title.y = element_blank(),\n",
    "      axis.text.x = element_blank(),\n",
    "      axis.text.y = element_blank(),\n",
    "      axis.ticks = element_blank()\n",
    "    )\n",
    "  \n",
    "  if(missing(split)){\n",
    "    scatter <- ggplot(data=dataframe) + aes_string(x=xvar, y=yvar) + geom_point(size=ptSize, alpha=ptAlpha) + xlim(xmin,xmax) + ylim(ymin,ymax) \n",
    "    plot_top <- ggplot(data=dataframe, aes_string(x=xvar)) + geom_density(alpha=fillAlpha) + theme(legend.position=\"none\") + xlim(xmin,xmax) \n",
    "    plot_right <- ggplot(data=dataframe, aes_string(x=yvar)) + geom_density(alpha=fillAlpha) + coord_flip() + theme(legend.position=\"none\") + xlim(ymin,ymax) \n",
    "  } \n",
    "  else{\n",
    "    scatter <- ggplot(data=dataframe) + aes_string(x=xvar, y=yvar) + geom_point(size=ptSize, alpha=ptAlpha, aes_string(color=split)) + xlim(xmin,xmax) + ylim(ymin,ymax) \n",
    "    plot_top <- ggplot(data=dataframe, aes_string(x=xvar, fill=split)) + geom_density(alpha=fillAlpha) + theme(legend.position=\"none\") + xlim(xmin,xmax) \n",
    "    plot_right <- ggplot(data=dataframe, aes_string(x=yvar, fill=split)) + geom_density(alpha=fillAlpha) + coord_flip() + theme(legend.position=\"none\") + xlim(ymin,ymax) \n",
    "  }\n",
    "  legend <- get_legend(scatter)\n",
    "  scatter <- scatter + theme(legend.position=\"none\")\n",
    "  temp <- grid.arrange(plot_top, legend, scatter, plot_right, ncol=2, nrow=2, widths=c(4,1), heights=c(1,4))\n",
    "  return(temp)\n",
    "}"
   ]
  },
  {
   "cell_type": "code",
   "execution_count": null,
   "metadata": {},
   "outputs": [],
   "source": [
    "# Call the readr library and use its read_delim function to load motherSNP.giab.txt into the motherSNP.giab object.\n",
    "library(readr)\n",
    "motherSNP.giab <- read_delim(\"/home/jupyter-user/motherSNP.giab.txt\",\"\\t\", \n",
    "              escape_double = FALSE, col_types = cols(giab.callsets = col_character()), trim_ws = TRUE)"
   ]
  },
  {
   "cell_type": "code",
   "execution_count": null,
   "metadata": {},
   "outputs": [],
   "source": [
    "# Rename the 'giab.callsets' column to 'set'.\n",
    "names(motherSNP.giab)[names(motherSNP.giab) == 'giab.callsets'] <- 'set'"
   ]
  },
  {
   "cell_type": "markdown",
   "metadata": {},
   "source": [
    "---\n",
    "\n",
    "For reference, here are some basic filtering thresholds to improve upon.\n",
    "\n",
    "- -filter \"QD < 2.0\"\n",
    "- -filter \"QUAL < 30.0\"\n",
    "- -filter \"SOR > 3.0\"\n",
    "- -filter \"FS > 60.0\"\n",
    "- -filter \"MQ < 40.0\"\n",
    "- -filter \"MQRankSum < -12.5 \n",
    "- -filter \"ReadPosRankSum < -8.0\"\n",
    "\n",
    "---"
   ]
  },
  {
   "cell_type": "markdown",
   "metadata": {},
   "source": [
    "### B. Make a density plot for QUAL with the `makeDensityPlot` function\n",
    "\n",
    "Iteratively improve the plot by modifying `qual`. Here are some suggestions to start.\n",
    "- B = makeDensityPlot(motherSNP.giab, \"QUAL\")\n",
    "- B = makeDensityPlot(motherSNP.giab, \"QUAL\", xmax=10000)\n",
    "- B = makeDensityPlot(motherSNP.giab, \"QUAL\", xmax=10000, split=\"set\")\n",
    "\n",
    "> _How does the density distribution relate to what the annotation represents? Can we find some clues of what might distinguish good vs. bad variants?_\n",
    "> _When we plot the split version, can we see a clear difference between the set distributions? What does that tell us?_"
   ]
  },
  {
   "cell_type": "code",
   "execution_count": null,
   "metadata": {},
   "outputs": [],
   "source": [
    "# B = makeDensityPlot(motherSNP.giab, \"QUAL\")\n",
    "B = makeDensityPlot(motherSNP.giab, \"QUAL\")\n"
   ]
  },
  {
   "cell_type": "code",
   "execution_count": null,
   "metadata": {
    "scrolled": false
   },
   "outputs": [],
   "source": [
    "# Plot 'B'\n",
    "B"
   ]
  },
  {
   "cell_type": "markdown",
   "metadata": {},
   "source": [
    "### C. Make a QD (QualByDepth) density plot"
   ]
  },
  {
   "cell_type": "markdown",
   "metadata": {},
   "source": [
    "QD puts the variant confidence QUAL score into perspective by normalizing for the amount of coverage available. Because each read contributes a little to the QUAL score, variants in regions with deep coverage can have artificially inflated QUAL scores, giving the impression that the call is supported by more evidence than it really is. To compensate for this, we normalize the variant confidence by depth, which gives us a more objective picture of how well supported the call is.\n",
    "\n",
    "> _What do the peaks represent?_"
   ]
  },
  {
   "cell_type": "code",
   "execution_count": null,
   "metadata": {},
   "outputs": [],
   "source": [
    "# C = makeDensityPlot(motherSNP.giab, \"QD\")\n",
    "# Change up the parameters, e.g. add 'split=\"set\"', examine RankSums, FS and SOR\n",
    "C = makeDensityPlot(motherSNP.giab, \n",
    "                    \"QD\")"
   ]
  },
  {
   "cell_type": "code",
   "execution_count": null,
   "metadata": {},
   "outputs": [],
   "source": [
    "C"
   ]
  },
  {
   "cell_type": "markdown",
   "metadata": {},
   "source": [
    "### D. Make a scatterplot of QD vs. DP using the `makeScatterPlot` function"
   ]
  },
  {
   "cell_type": "markdown",
   "metadata": {},
   "source": [
    "The DP (depth) here refers to the unfiltered count of reads at the site level (INFO). An identically named annotation exists at the sample level (FORMAT) that refers to the count of reads that passed the caller's internal quality control metrics for the sample. \n",
    "\n",
    "> What is the relationship between DP and QUAL? How does high-depth correlate with true positives?"
   ]
  },
  {
   "cell_type": "code",
   "execution_count": null,
   "metadata": {},
   "outputs": [],
   "source": [
    "# D = makeScatterPlot(motherSNP.giab, \"QD\", \"DP\", split=\"set\")\n",
    "# Play with the axis limits to zoom in on subsets of the data, e.g. by adding ymax=1000.\n",
    "D = makeScatterPlot(motherSNP.giab, \n",
    "                    \"QD\", \"DP\")"
   ]
  },
  {
   "cell_type": "code",
   "execution_count": null,
   "metadata": {
    "scrolled": false
   },
   "outputs": [],
   "source": [
    "D"
   ]
  },
  {
   "cell_type": "markdown",
   "metadata": {},
   "source": [
    "### E. Make a scatterplot winged by marginal density plots\n",
    "\n",
    "The `makeScatterPlotWithMarginalDensity` function defines and plots. The `ptAlpha` parameter changes the transparency of the points. \n",
    "\n",
    "> _When plotting two annotations, does the combination of the two tell us anything more than either did separately?_\n",
    "\n",
    "- Try adjusting the parameters.\n",
    "- Substitute in other annotations. For example, the following recreates the plot on the front page of the tutorial worksheet.\n",
    "\n",
    "```\n",
    "F = makeScatterPlotWithMarginalDensity(motherSNP.giab, \"QUAL\", \"DP\", split=\"set\", xmax=10000, ymax=100, ptSize=0.5, ptAlpha=0.05)\n",
    "```\n",
    "\n",
    "\n"
   ]
  },
  {
   "cell_type": "code",
   "execution_count": null,
   "metadata": {},
   "outputs": [],
   "source": [
    "# E = makeScatterPlotWithMarginalDensity(motherSNP.giab, \"QD\", \"DP\", split=\"set\", ymax=250, ptSize=0.5, ptAlpha=0.2)\n",
    "E = makeScatterPlotWithMarginalDensity(motherSNP.giab, \n",
    "                                       \"QD\", \"DP\", \n",
    "                                       split=\"set\", \n",
    "                                       ymax=250, \n",
    "                                       ptSize=0.5, ptAlpha=0.2)"
   ]
  },
  {
   "cell_type": "code",
   "execution_count": null,
   "metadata": {},
   "outputs": [],
   "source": [
    "# Blank cell for free use. Add additional cells with Menu > Insert.\n",
    "# Change the cell type with Cell > Cell Type.\n",
    "# Delete a cell with Edit > Delete Cells."
   ]
  },
  {
   "cell_type": "markdown",
   "metadata": {},
   "source": [
    "---\n",
    "## 5. Apply filters with VariantFiltration and evaluate results"
   ]
  },
  {
   "cell_type": "markdown",
   "metadata": {},
   "source": [
    "<span style=\"color:blue\">Go back to the Python notebook now to continue your work.</span>"
   ]
  }
 ],
 "metadata": {
  "kernelspec": {
   "display_name": "R",
   "language": "R",
   "name": "ir"
  },
  "language_info": {
   "codemirror_mode": "r",
   "file_extension": ".r",
   "mimetype": "text/x-r-source",
   "name": "R",
   "pygments_lexer": "r",
   "version": "3.5.2"
  },
  "toc": {
   "base_numbering": 1,
   "nav_menu": {},
   "number_sections": true,
   "sideBar": true,
   "skip_h1_title": false,
   "title_cell": "Table of Contents",
   "title_sidebar": "Contents",
   "toc_cell": false,
   "toc_position": {
    "height": "669.333px",
    "left": "70px",
    "top": "281.667px",
    "width": "176px"
   },
   "toc_section_display": true,
   "toc_window_display": true
  }
 },
 "nbformat": 4,
 "nbformat_minor": 2
}
